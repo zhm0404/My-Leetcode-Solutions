{
 "cells": [
  {
   "cell_type": "code",
   "execution_count": null,
   "id": "9b1f5933",
   "metadata": {},
   "outputs": [],
   "source": [
    "#For example, 2 is written as II in Roman numeral, just two ones added together. \n",
    "#12 is written as XII, which is simply X + II. The number 27 is written as XXVII, which is XX + V + II.\n",
    "#Roman numerals are usually written largest to smallest from left to right. \n",
    "#However, the numeral for four is not IIII. Instead, the number four is written as IV. \n",
    "#Because the one is before the five we subtract it making four. \n",
    "#The same principle applies to the number nine, which is written as IX. \n",
    "#There are six instances where subtraction is used:\n",
    "# I can be placed before V (5) and X (10) to make 4 and 9. \n",
    "# X can be placed before L (50) and C (100) to make 40 and 90. \n",
    "# C can be placed before D (500) and M (1000) to make 400 and 900.\n",
    "# Given a roman numeral, convert it to an integer.\n",
    "class Solution(object):\n",
    "    def romanToInt(self, s):\n",
    "        \"\"\"\n",
    "        :type s: str\n",
    "        :rtype: int\n",
    "        \"\"\"\n",
    "        result = 0\n",
    "        tmp = 'M'\n",
    "        dic = {'I':1, 'V':5, 'X':10, 'L':50, 'C':100, 'D':500, 'M':1000}\n",
    "        for i in s:\n",
    "            if dic[i] > dic[tmp]:\n",
    "                result += dic[i] - 2*dic[tmp]\n",
    "            else:\n",
    "                result += dic[i]\n",
    "            tmp = i\n",
    "        return result"
   ]
  }
 ],
 "metadata": {
  "kernelspec": {
   "display_name": "Python 3 (ipykernel)",
   "language": "python",
   "name": "python3"
  },
  "language_info": {
   "codemirror_mode": {
    "name": "ipython",
    "version": 3
   },
   "file_extension": ".py",
   "mimetype": "text/x-python",
   "name": "python",
   "nbconvert_exporter": "python",
   "pygments_lexer": "ipython3",
   "version": "3.10.9"
  }
 },
 "nbformat": 4,
 "nbformat_minor": 5
}
