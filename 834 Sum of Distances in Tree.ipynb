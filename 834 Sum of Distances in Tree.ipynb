{
 "cells": [
  {
   "cell_type": "markdown",
   "metadata": {},
   "source": [
    "There is an undirected connected tree with n nodes labeled from 0 to n - 1 and n - 1 edges.\n",
    "\n",
    "You are given the integer n and the array edges where edges[i] = [ai, bi] indicates that there is an edge between nodes ai and bi in the tree.\n",
    "\n",
    "Return an array answer of length n where answer[i] is the sum of the distances between the ith node in the tree and all other nodes."
   ]
  },
  {
   "cell_type": "code",
   "execution_count": null,
   "metadata": {},
   "outputs": [],
   "source": [
    "from collections import defaultdict\n",
    "\n",
    "\n",
    "class Solution:\n",
    "        def sumOfDistancesInTree(self, N, edges):\n",
    "            tree = defaultdict(set)\n",
    "            res = [0] * N\n",
    "            count = [1] * N\n",
    "            for i, j in edges:\n",
    "                tree[i].add(j)\n",
    "                tree[j].add(i)\n",
    "\n",
    "            def dfs(root, pre):\n",
    "                for i in tree[root]:\n",
    "                    if i != pre:\n",
    "                        dfs(i, root)\n",
    "                        count[root] += count[i]\n",
    "                        res[root] += res[i] + count[i]\n",
    "\n",
    "            def dfs2(root, pre):\n",
    "                for i in tree[root]:\n",
    "                    if i != pre:\n",
    "                        res[i] = res[root] - count[i] + N - count[i]\n",
    "                        dfs2(i, root)\n",
    "            dfs(0, -1)\n",
    "            dfs2(0, -1)\n",
    "            return res"
   ]
  },
  {
   "cell_type": "code",
   "execution_count": null,
   "metadata": {},
   "outputs": [],
   "source": []
  }
 ],
 "metadata": {
  "language_info": {
   "name": "python"
  }
 },
 "nbformat": 4,
 "nbformat_minor": 2
}
