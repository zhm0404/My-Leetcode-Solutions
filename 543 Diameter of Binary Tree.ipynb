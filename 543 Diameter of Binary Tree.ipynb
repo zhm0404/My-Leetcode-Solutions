{
 "cells": [
  {
   "cell_type": "markdown",
   "metadata": {},
   "source": [
    "Given the root of a binary tree, return the length of the diameter of the tree.\n",
    "\n",
    "The diameter of a binary tree is the length of the longest path between any two nodes in a tree. This path may or may not pass through the root.\n",
    "\n",
    "The length of a path between two nodes is represented by the number of edges between them."
   ]
  },
  {
   "cell_type": "code",
   "execution_count": null,
   "metadata": {},
   "outputs": [],
   "source": [
    "# Definition for a binary tree node.\n",
    "from typing import Optional\n",
    "\n",
    "\n",
    "class TreeNode:\n",
    "    def __init__(self, val=0, left=None, right=None):\n",
    "        self.val = val\n",
    "        self.left = left\n",
    "        self.right = right\n",
    "class Solution:\n",
    "    def diameterOfBinaryTree(self, root: Optional[TreeNode]) -> int:\n",
    "        \n",
    "        def depth(root: Optional[TreeNode]) -> int:\n",
    "            nonlocal diameter\n",
    "            if root.left:\n",
    "                depth_left = depth(root.left) + 1\n",
    "            else:\n",
    "                depth_left = 0\n",
    "            \n",
    "            if root.right:\n",
    "                depth_right = depth(root.right) + 1\n",
    "            else:\n",
    "                depth_right = 0\n",
    "            \n",
    "            diameter = max(diameter, depth_left+depth_right)\n",
    "            \n",
    "            return max(depth_left, depth_right)\n",
    "        \n",
    "        diameter = float('-inf')\n",
    "        depth(root)\n",
    "        \n",
    "        return diameter"
   ]
  },
  {
   "cell_type": "code",
   "execution_count": null,
   "metadata": {},
   "outputs": [],
   "source": []
  }
 ],
 "metadata": {
  "kernelspec": {
   "display_name": "Python 3",
   "language": "python",
   "name": "python3"
  },
  "language_info": {
   "name": "python",
   "version": "3.11.8"
  }
 },
 "nbformat": 4,
 "nbformat_minor": 2
}
