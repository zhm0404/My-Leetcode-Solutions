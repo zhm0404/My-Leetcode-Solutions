{
 "cells": [
  {
   "cell_type": "markdown",
   "metadata": {},
   "source": [
    "There is an integer array nums sorted in ascending order (with distinct values).\n",
    "\n",
    "Prior to being passed to your function, nums is possibly rotated at an unknown pivot index k (1 <= k < nums.length) such that the resulting array is [nums[k], nums[k+1], ..., nums[n-1], nums[0], nums[1], ..., nums[k-1]] (0-indexed). For example, [0,1,2,4,5,6,7] might be rotated at pivot index 3 and become [4,5,6,7,0,1,2].\n",
    "\n",
    "Given the array nums after the possible rotation and an integer target, return the index of target if it is in nums, or -1 if it is not in nums.\n",
    "\n",
    "You must write an algorithm with O(log n) runtime complexity.\n",
    "\n",
    "Example 1:\n",
    "\n",
    "Input: nums = [4,5,6,7,0,1,2], target = 0\n",
    "Output: 4\n",
    "Example 2:\n",
    "\n",
    "Input: nums = [4,5,6,7,0,1,2], target = 3\n",
    "Output: -1\n",
    "Example 3:\n",
    "\n",
    "Input: nums = [1], target = 0\n",
    "Output: -1\n",
    " \n",
    "\n",
    "Constraints:\n",
    "\n",
    "1 <= nums.length <= 5000\n",
    "-104 <= nums[i] <= 104\n",
    "All values of nums are unique.\n",
    "nums is an ascending array that is possibly rotated.\n",
    "-104 <= target <= 104"
   ]
  },
  {
   "cell_type": "code",
   "execution_count": 11,
   "metadata": {},
   "outputs": [
    {
     "data": {
      "text/plain": [
       "2"
      ]
     },
     "execution_count": 11,
     "metadata": {},
     "output_type": "execute_result"
    }
   ],
   "source": [
    "from typing import List\n",
    "class Solution:\n",
    "    def search(self, nums: List[int], target: int) -> int:\n",
    "        if len(nums)==1:\n",
    "            return 0 if nums[0] == target else -1\n",
    "            \n",
    "        start = 0 \n",
    "        end = len(nums) - 1\n",
    "        pivot = None \n",
    "\n",
    "        # Find the pivot element (the largest element)\n",
    "        while start <= end:\n",
    "            point = (start + end)//2\n",
    "            num = nums[point]\n",
    "            if num <= nums[-1]:\n",
    "                end = point - 1\n",
    "\n",
    "            elif num > nums[-1]:\n",
    "                if num > nums[point+1]:\n",
    "                    pivot = point\n",
    "                    break\n",
    "                else:\n",
    "                    start = point + 1\n",
    "\n",
    "        left = 0 # initialize the left end of the interval of the target\n",
    "        right = len(nums) - 1 # initialize the right end of the interval of the target\n",
    "        if pivot != None: # If the array is rotated\n",
    "            if target <= nums[-1]:\n",
    "                left = pivot + 1 # Update the left end of the interval of the target\n",
    "            else:\n",
    "                right = pivot # Update the right end of the interval of the target\n",
    "        \n",
    "        # Binary Search\n",
    "        while left <= right:\n",
    "            point = (left + right)//2\n",
    "            if nums[point] == target:\n",
    "                return point\n",
    "            elif nums[point] < target:\n",
    "                left = point + 1\n",
    "            else:\n",
    "                right = point - 1\n",
    "        \n",
    "        return -1\n",
    "# Solution 2 \n",
    "    def search2(self, nums: List[int], target: int) -> int:\n",
    "        left, right = 0, len(nums) - 1\n",
    "\n",
    "        while left <= right:\n",
    "            mid = (left + right) // 2\n",
    "\n",
    "            if nums[mid] == target:\n",
    "                return mid\n",
    "\n",
    "            # Check if left half is sorted\n",
    "            if nums[left] <= nums[mid]:\n",
    "                if nums[left] <= target < nums[mid]:\n",
    "                    right = mid - 1\n",
    "                else:\n",
    "                    left = mid + 1\n",
    "            # Otherwise, right half is sorted\n",
    "            else:\n",
    "                if nums[mid] < target <= nums[right]:\n",
    "                    left = mid + 1\n",
    "                else:\n",
    "                    right = mid - 1\n",
    "\n",
    "        return -1\n",
    "nums = [5,1,3]\n",
    "target = 3\n",
    "s = Solution()\n",
    "s.search(nums, target)"
   ]
  },
  {
   "cell_type": "markdown",
   "metadata": {},
   "source": []
  }
 ],
 "metadata": {
  "kernelspec": {
   "display_name": "Python 3",
   "language": "python",
   "name": "python3"
  },
  "language_info": {
   "codemirror_mode": {
    "name": "ipython",
    "version": 3
   },
   "file_extension": ".py",
   "mimetype": "text/x-python",
   "name": "python",
   "nbconvert_exporter": "python",
   "pygments_lexer": "ipython3",
   "version": "3.11.7"
  }
 },
 "nbformat": 4,
 "nbformat_minor": 2
}
