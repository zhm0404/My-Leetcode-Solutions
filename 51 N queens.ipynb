{
 "cells": [
  {
   "cell_type": "markdown",
   "metadata": {},
   "source": [
    "The n-queens puzzle is the problem of placing n queens on an n x n chessboard such that no two queens attack each other.\n",
    "\n",
    "Given an integer n, return all distinct solutions to the n-queens puzzle. You may return the answer in any order.\n",
    "\n",
    "Each solution contains a distinct board configuration of the n-queens' placement, where 'Q' and '.' both indicate a queen and an empty space, respectively."
   ]
  },
  {
   "cell_type": "code",
   "execution_count": 60,
   "metadata": {},
   "outputs": [],
   "source": [
    "from typing import List\n",
    "from collections import defaultdict\n",
    "# hint: each row must have one and only one queen\n",
    "class Solution:\n",
    "    def solveNQueens(self, n: int) -> List[List[str]]:\n",
    "        cols = [0] * n\n",
    "        diagonal = [0] * (2 * n - 1)\n",
    "        backdiagonal = [0] * (2 * n - 1)\n",
    "        board = [['.' for _ in range(n)] for _ in range(n)]\n",
    "        res = []\n",
    "\n",
    "        def dfs(row: int):\n",
    "            if row == n:\n",
    "                res.append([''.join(board[x]) for x in range(n)])\n",
    "                return\n",
    "\n",
    "            for j in range(n):\n",
    "                if cols[j] == 0 and diagonal[row+j] == 0 and backdiagonal[row-j] == 0:\n",
    "                    board[row][j] = \"Q\"\n",
    "                    cols[j] = 1\n",
    "                    diagonal[row+j] = 1\n",
    "                    backdiagonal[row-j] = 1\n",
    "                    dfs(row+1)\n",
    "\n",
    "                    board[row][j] = \".\"\n",
    "                    cols[j] = 0\n",
    "                    diagonal[row+j] = 0\n",
    "                    backdiagonal[row-j] = 0\n",
    "            return\n",
    "\n",
    "        dfs(0)\n",
    "        return res\n",
    "\n",
    "# Example usage\n",
    "sol = Solution()\n",
    "result = sol.solveNQueens(4)\n",
    "print(result)\n"
   ]
  },
  {
   "cell_type": "code",
   "execution_count": 61,
   "metadata": {},
   "outputs": [
    {
     "data": {
      "text/plain": [
       "[['.Q..', '...Q', 'Q...', '..Q.'], ['..Q.', 'Q...', '...Q', '.Q..']]"
      ]
     },
     "execution_count": 61,
     "metadata": {},
     "output_type": "execute_result"
    }
   ],
   "source": [
    "s = Solution()\n",
    "s.solveNQueens(4)"
   ]
  },
  {
   "cell_type": "code",
   "execution_count": 56,
   "metadata": {},
   "outputs": [
    {
     "name": "stdout",
     "output_type": "stream",
     "text": [
      "[['.', '.', '.', '.', '.'], ['.', '.', '.', '.', '.'], ['.', '.', '.', '.', '.'], ['.', '.', '.', '.', '.'], ['.', '.', '.', '.', '.']]\n",
      "[[['.', '.', '.', '.', '.'], ['.', '2', '.', '.', '.'], ['.', '.', '.', '.', '.'], ['.', '.', '.', '.', '.'], ['.', '.', '.', '.', '.']]]\n"
     ]
    }
   ],
   "source": [
    "lissssss = [['.' for _ in range(5)] for _ in range(5)]\n",
    "print(lissssss)\n",
    "group = []\n",
    "group.append(lissssss)\n",
    "lissssss[1][1] = '2'\n",
    "print(group)"
   ]
  },
  {
   "cell_type": "code",
   "execution_count": null,
   "metadata": {},
   "outputs": [],
   "source": []
  }
 ],
 "metadata": {
  "kernelspec": {
   "display_name": "Python 3",
   "language": "python",
   "name": "python3"
  },
  "language_info": {
   "codemirror_mode": {
    "name": "ipython",
    "version": 3
   },
   "file_extension": ".py",
   "mimetype": "text/x-python",
   "name": "python",
   "nbconvert_exporter": "python",
   "pygments_lexer": "ipython3",
   "version": "3.11.7"
  }
 },
 "nbformat": 4,
 "nbformat_minor": 2
}
