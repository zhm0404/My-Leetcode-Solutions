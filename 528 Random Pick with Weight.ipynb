{
 "cells": [
  {
   "cell_type": "markdown",
   "metadata": {},
   "source": [
    "You are given a 0-indexed array of positive integers w where w[i] describes the weight of the ith index.\n",
    "\n",
    "You need to implement the function pickIndex(), which randomly picks an index in the range [0, w.length - 1] (inclusive) and returns it. The probability of picking an index i is w[i] / sum(w).\n",
    "\n",
    "For example, if w = [1, 3], the probability of picking index 0 is 1 / (1 + 3) = 0.25 (i.e., 25%), and the probability of picking index 1 is 3 / (1 + 3) = 0.75 (i.e., 75%).\n",
    "\n",
    "Example 1:\n",
    "\n",
    "Input\n",
    "[\"Solution\",\"pickIndex\"]\n",
    "[[[1]],[]]\n",
    "Output\n",
    "[null,0]\n",
    "\n",
    "Explanation\n",
    "Solution solution = new Solution([1]);\n",
    "solution.pickIndex(); // return 0. The only option is to return 0 since there is only one element in w.\n",
    "Example 2:\n",
    "\n",
    "Input\n",
    "[\"Solution\",\"pickIndex\",\"pickIndex\",\"pickIndex\",\"pickIndex\",\"pickIndex\"]\n",
    "[[[1,3]],[],[],[],[],[]]\n",
    "Output\n",
    "[null,1,1,1,1,0]\n",
    "\n",
    "Explanation\n",
    "Solution solution = new Solution([1, 3]);\n",
    "solution.pickIndex(); // return 1. It is returning the second element (index = 1) that has a probability of 3/4.\n",
    "solution.pickIndex(); // return 1\n",
    "solution.pickIndex(); // return 1\n",
    "solution.pickIndex(); // return 1\n",
    "solution.pickIndex(); // return 0. It is returning the first element (index = 0) that has a probability of 1/4.\n",
    "\n",
    "Since this is a randomization problem, multiple answers are allowed.\n",
    "All of the following outputs can be considered correct:\n",
    "[null,1,1,1,1,0]\n",
    "[null,1,1,1,1,1]\n",
    "[null,1,1,1,0,0]\n",
    "[null,1,1,1,0,1]\n",
    "[null,1,0,1,0,0]\n",
    "......\n",
    "and so on.\n",
    " \n",
    "\n",
    "Constraints:\n",
    "\n",
    "1 <= w.length <= 104\n",
    "1 <= w[i] <= 105\n",
    "pickIndex will be called at most 104 times."
   ]
  },
  {
   "cell_type": "code",
   "execution_count": 45,
   "metadata": {},
   "outputs": [
    {
     "data": {
      "text/plain": [
       "0"
      ]
     },
     "execution_count": 45,
     "metadata": {},
     "output_type": "execute_result"
    }
   ],
   "source": [
    "from typing import List\n",
    "from random import randint\n",
    "\n",
    "class Solution:\n",
    "    def __init__(self, w: List[int]):\n",
    "        # Generate an array to store the prefix sum of all weights\n",
    "        prefixSum = 0\n",
    "        self.prefixSum = []\n",
    "        for weight in w:\n",
    "            prefixSum += weight\n",
    "            self.prefixSum.append(prefixSum)\n",
    "        self.totalWeight = prefixSum\n",
    "        return\n",
    "        \n",
    "\n",
    "    def pickIndex(self) -> int:\n",
    "        # Generate a random number between 1 and the total weight\n",
    "        point = randint(1, self.totalWeight)\n",
    "\n",
    "         # Perform binary search to find the index corresponding to the random number\n",
    "        left, right = 0, len(self.prefixSum) - 1\n",
    "        while left < right:\n",
    "            mid = (left + right) // 2\n",
    "            if self.prefixSum[mid] < point:\n",
    "                left = mid + 1\n",
    "            else:\n",
    "                right = mid\n",
    "\n",
    "        return left\n",
    "\n",
    "w = [1,3]\n",
    "obj = Solution(w)\n",
    "param_1 = obj.pickIndex()\n",
    "param_1\n",
    "# Your Solution object will be instantiated and called as such:\n",
    "# obj = Solution(w)\n",
    "# param_1 = obj.pickIndex()"
   ]
  },
  {
   "cell_type": "code",
   "execution_count": 31,
   "metadata": {},
   "outputs": [
    {
     "data": {
      "text/plain": [
       "1"
      ]
     },
     "execution_count": 31,
     "metadata": {},
     "output_type": "execute_result"
    }
   ],
   "source": [
    "randint(1,3)"
   ]
  },
  {
   "cell_type": "code",
   "execution_count": null,
   "metadata": {},
   "outputs": [],
   "source": []
  }
 ],
 "metadata": {
  "kernelspec": {
   "display_name": "Python 3",
   "language": "python",
   "name": "python3"
  },
  "language_info": {
   "codemirror_mode": {
    "name": "ipython",
    "version": 3
   },
   "file_extension": ".py",
   "mimetype": "text/x-python",
   "name": "python",
   "nbconvert_exporter": "python",
   "pygments_lexer": "ipython3",
   "version": "3.11.7"
  }
 },
 "nbformat": 4,
 "nbformat_minor": 2
}
