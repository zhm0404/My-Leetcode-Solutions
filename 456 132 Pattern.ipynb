{
 "cells": [
  {
   "cell_type": "markdown",
   "metadata": {},
   "source": [
    "Given an array of n integers nums, a 132 pattern is a subsequence of three integers nums[i], nums[j] and nums[k] \n",
    "such that i < j < k and nums[i] < nums[k] < nums[j].\n",
    "\n",
    "Return true if there is a 132 pattern in nums, otherwise, return false.\n",
    "\n",
    "Example 1:\n",
    "\n",
    "Input: nums = [1,2,3,4]\n",
    "Output: false\n",
    "Explanation: There is no 132 pattern in the sequence."
   ]
  },
  {
   "cell_type": "code",
   "execution_count": 1,
   "metadata": {},
   "outputs": [],
   "source": [
    "class Solution(object):\n",
    "    def find132pattern(self, array):\n",
    "        if not array:\n",
    "            return False\n",
    "        else:\n",
    "            stack = [[float('inf'), float('inf')]] # to save pairs of maximums and minimums\n",
    "            for num in array:\n",
    "                min = stack[-1][0] # store the minimum of the smallest pair\n",
    "                if num <= min:\n",
    "                    stack.append([num, float('-inf')]) # if num less than or equal to minimum of the smallest pair\n",
    "                    #then create a new pair at top (-inf, num)\n",
    "\n",
    "                else: # if num greater than the minimum of the smallest pair then do:\n",
    "                    while(num >= stack[-1][1]):  # then pop out the pair at the top\n",
    "                        stack.pop()\n",
    "                    \n",
    "                    if stack[-1][0] < num: # compare num with the minimum of the remaining pair at top of the stack\n",
    "                        return True\n",
    "                    \n",
    "                    stack.append([min, num]) # create a new pair at top ()\n",
    "        \n",
    "            return False\n",
    "                        \n",
    "           \n",
    "\n"
   ]
  },
  {
   "cell_type": "code",
   "execution_count": 2,
   "metadata": {},
   "outputs": [
    {
     "data": {
      "text/plain": [
       "False"
      ]
     },
     "execution_count": 2,
     "metadata": {},
     "output_type": "execute_result"
    }
   ],
   "source": [
    "array = [ -6, -8, -5, -5]\n",
    "s = Solution()\n",
    "s.check132(array)\n",
    "\n"
   ]
  }
 ],
 "metadata": {
  "kernelspec": {
   "display_name": "Python 3",
   "language": "python",
   "name": "python3"
  },
  "language_info": {
   "codemirror_mode": {
    "name": "ipython",
    "version": 3
   },
   "file_extension": ".py",
   "mimetype": "text/x-python",
   "name": "python",
   "nbconvert_exporter": "python",
   "pygments_lexer": "ipython3",
   "version": "3.11.7"
  }
 },
 "nbformat": 4,
 "nbformat_minor": 2
}
