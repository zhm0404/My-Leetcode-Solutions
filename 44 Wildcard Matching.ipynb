{
 "cells": [
  {
   "cell_type": "markdown",
   "metadata": {},
   "source": [
    "Given an input string (s) and a pattern (p), implement wildcard pattern matching with support for '?' and '*' where:\n",
    "\n",
    "'?' Matches any single character.\n",
    "'*' Matches any sequence of characters (including the empty sequence).\n",
    "The matching should cover the entire input string (not partial).\n",
    "\n",
    "Example 1:\n",
    "\n",
    "Input: s = \"aa\", p = \"a\"\n",
    "Output: false\n",
    "Explanation: \"a\" does not match the entire string \"aa\".\n",
    "Example 2:\n",
    "\n",
    "Input: s = \"aa\", p = \"*\"\n",
    "Output: true\n",
    "Explanation: '*' matches any sequence.\n",
    "Example 3:\n",
    "\n",
    "Input: s = \"cb\", p = \"?a\"\n",
    "Output: false\n",
    "Explanation: '?' matches 'c', but the second letter is 'a', which does not match 'b'.\n",
    " \n",
    "\n",
    "Constraints:\n",
    "\n",
    "0 <= s.length, p.length <= 2000\n",
    "s contains only lowercase English letters.\n",
    "p contains only lowercase English letters, '?' or '*'."
   ]
  },
  {
   "cell_type": "code",
   "execution_count": 8,
   "metadata": {},
   "outputs": [
    {
     "data": {
      "text/plain": [
       "[[True, True, False, False, False],\n",
       " [False, True, True, True, False],\n",
       " [False, True, False, True, False],\n",
       " [False, True, False, True, False],\n",
       " [False, True, False, True, False],\n",
       " [False, True, False, True, True]]"
      ]
     },
     "execution_count": 8,
     "metadata": {},
     "output_type": "execute_result"
    }
   ],
   "source": [
    "class Solution:\n",
    "    def isMatch(self, s: str, p: str) -> bool:\n",
    "        \n",
    "        N = len(p)\n",
    "        M = len(s) \n",
    "        if N == 0:\n",
    "            return M == 0\n",
    "        \n",
    "        dp = [[False] * (N+1) for _ in range(M+1)]\n",
    "        \n",
    "        \n",
    "        # populate the first row of the dp array\n",
    "        dp[0][0] = True\n",
    "        \n",
    "        i = 0\n",
    "        for j in range(1, N+1):\n",
    "            if p[j-1] == \"*\" :\n",
    "                dp[0][j] = dp[0][j-1]\n",
    "        \n",
    "        # fill the rest of the dp array\n",
    "        if M!=0 :\n",
    "            for i in range(1, M+1):\n",
    "                for j in range(0, N+1):\n",
    "                    if p[j-1] == \"*\":\n",
    "                        dp[i][j] = dp[i][j-1] or dp[i-1][j]\n",
    "                    elif p[j-1] == \"?\" or p[j-1] == s[i-1]:\n",
    "                        dp[i][j] = dp[i-1][j-1]\n",
    "        \n",
    "        return dp\n",
    "    \n",
    "s = Solution()\n",
    "s.isMatch(\"adceb\", \"*a*b\")"
   ]
  },
  {
   "cell_type": "code",
   "execution_count": null,
   "metadata": {},
   "outputs": [],
   "source": []
  },
  {
   "cell_type": "code",
   "execution_count": null,
   "metadata": {},
   "outputs": [],
   "source": []
  }
 ],
 "metadata": {
  "kernelspec": {
   "display_name": "Python 3",
   "language": "python",
   "name": "python3"
  },
  "language_info": {
   "codemirror_mode": {
    "name": "ipython",
    "version": 3
   },
   "file_extension": ".py",
   "mimetype": "text/x-python",
   "name": "python",
   "nbconvert_exporter": "python",
   "pygments_lexer": "ipython3",
   "version": "3.11.8"
  }
 },
 "nbformat": 4,
 "nbformat_minor": 2
}
