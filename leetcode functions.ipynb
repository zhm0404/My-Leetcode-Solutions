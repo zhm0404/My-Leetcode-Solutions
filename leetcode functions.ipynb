{
 "cells": [
  {
   "cell_type": "code",
   "execution_count": 1,
   "metadata": {},
   "outputs": [],
   "source": [
    "# search for smallest num >= x\n",
    "def search(x, nums):\n",
    "    lo, hi = 0, len(nums)           \n",
    "    while lo < hi:\n",
    "        mid = (lo + hi) // 2\n",
    "        if nums[mid] < x:\n",
    "            lo = mid+1\n",
    "        else:\n",
    "            hi = mid  \n",
    "        # When the loop ends, we will have lo = hi\n",
    "        # In the last step we will have lo = hi. At this moment, lo will be the index after some largest possible element which is < x\n",
    "        # lo could be len(nums) (when all elements are < x)\n",
    "        # that's why we initialize hi with len(nums)\n",
    "        # Also, the loop will not be skipped if we only have one element\n",
    "    return lo"
   ]
  },
  {
   "cell_type": "code",
   "execution_count": null,
   "metadata": {},
   "outputs": [],
   "source": []
  }
 ],
 "metadata": {
  "kernelspec": {
   "display_name": "Python 3",
   "language": "python",
   "name": "python3"
  },
  "language_info": {
   "codemirror_mode": {
    "name": "ipython",
    "version": 3
   },
   "file_extension": ".py",
   "mimetype": "text/x-python",
   "name": "python",
   "nbconvert_exporter": "python",
   "pygments_lexer": "ipython3",
   "version": "3.11.7"
  }
 },
 "nbformat": 4,
 "nbformat_minor": 2
}
