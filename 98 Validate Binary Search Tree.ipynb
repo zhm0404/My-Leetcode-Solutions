{
 "cells": [
  {
   "cell_type": "markdown",
   "metadata": {},
   "source": [
    "Given the root of a binary tree, determine if it is a valid binary search tree (BST).\n",
    "\n",
    "A valid BST is defined as follows:\n",
    "\n",
    "The left subtree of a node contains only nodes with keys less than the node's key.\n",
    "The right subtree of a node contains only nodes with keys greater than the node's key.\n",
    "Both the left and right subtrees must also be binary search trees.\n",
    " "
   ]
  },
  {
   "cell_type": "code",
   "execution_count": null,
   "metadata": {},
   "outputs": [],
   "source": [
    "# Definition for a binary tree node.\n",
    "class TreeNode:\n",
    "    def __init__(self, val=0, left=None, right=None):\n",
    "        self.val = val\n",
    "        self.left = left\n",
    "        self.right = right\n",
    "\n",
    "from typing import List, Optional\n",
    "\n",
    "class Solution:\n",
    "    def isValidBST(self, root: Optional[TreeNode]) -> bool:\n",
    "        self.valid = True\n",
    "        \n",
    "        def validBSTHelper(root: TreeNode) -> (bool, int, int):\n",
    "            if root is None:\n",
    "                return True, float('inf'), float('-inf')\n",
    "            \n",
    "            left_valid, left_min, left_max = validBSTHelper(root.left)\n",
    "            right_valid, right_min, right_max = validBSTHelper(root.right)\n",
    "            \n",
    "            is_valid = left_valid and right_valid and (left_max < root.val < right_min)\n",
    "            min_val = min(left_min, root.val, right_min)\n",
    "            max_val = max(left_max, root.val, right_max)\n",
    "            \n",
    "            return is_valid, min_val, max_val\n",
    "        \n",
    "        return validBSTHelper(root)[0]\n",
    "\n",
    "class Solution2:\n",
    "    def isValidBST(self, root: Optional[TreeNode]) -> bool:\n",
    "        prev = float('-inf')\n",
    "\n",
    "        # We're taking advantage of the nature of inorder traversal. \n",
    "        # The values of the nodes we're traversing should be in ascending order. \n",
    "        # I.e., the current node's value should be greater than the previous node's value.\n",
    "        def inorder(node):\n",
    "            nonlocal prev\n",
    "            if not node:\n",
    "                return True\n",
    "\n",
    "            if not (inorder(node.left) and prev < node.val):\n",
    "                return False\n",
    "\n",
    "            prev = node.val\n",
    "            return inorder(node.right)\n",
    "\n",
    "        return inorder(root)\n",
    "\n",
    "class Solution3:\n",
    "    def isValidBST(self, root: Optional[TreeNode]) -> bool:\n",
    "        def dfs(node, low, high):\n",
    "            if not node:\n",
    "                return True\n",
    "            valid = low < node.val < high\n",
    "            return valid and dfs(node.left, low, node.val) and dfs(node.right, node.val, high)\n",
    "        return dfs(root, float('-inf'), float('inf'))"
   ]
  },
  {
   "cell_type": "code",
   "execution_count": null,
   "metadata": {},
   "outputs": [],
   "source": []
  }
 ],
 "metadata": {
  "kernelspec": {
   "display_name": "Python 3",
   "language": "python",
   "name": "python3"
  },
  "language_info": {
   "name": "python",
   "version": "3.11.8"
  }
 },
 "nbformat": 4,
 "nbformat_minor": 2
}
