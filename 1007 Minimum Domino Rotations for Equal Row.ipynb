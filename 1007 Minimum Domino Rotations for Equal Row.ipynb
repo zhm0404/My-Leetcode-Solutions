{
 "cells": [
  {
   "cell_type": "markdown",
   "metadata": {},
   "source": [
    "In a row of dominoes, tops[i] and bottoms[i] represent the top and bottom halves of the ith domino. (A domino is a tile with two numbers from 1 to 6 - one on each half of the tile.)\n",
    "\n",
    "We may rotate the ith domino, so that tops[i] and bottoms[i] swap values.\n",
    "\n",
    "Return the minimum number of rotations so that all the values in tops are the same, or all the values in bottoms are the same.\n",
    "\n",
    "If it cannot be done, return -1.\n",
    "\n",
    "Example 1:\n",
    "Input: tops = [2,1,2,4,2,2], bottoms = [5,2,6,2,3,2]\n",
    "Output: 2\n",
    "Explanation: \n",
    "The first figure represents the dominoes as given by tops and bottoms: before we do any rotations.\n",
    "If we rotate the second and fourth dominoes, we can make every value in the top row equal to 2, as indicated by the second figure.\n",
    "Example 2:\n",
    "\n",
    "Input: tops = [3,5,1,2,3], bottoms = [3,6,3,3,4]\n",
    "Output: -1\n",
    "Explanation: \n",
    "In this case, it is not possible to rotate the dominoes to make one row of values equal."
   ]
  },
  {
   "cell_type": "code",
   "execution_count": 15,
   "metadata": {},
   "outputs": [
    {
     "data": {
      "text/plain": [
       "10"
      ]
     },
     "execution_count": 15,
     "metadata": {},
     "output_type": "execute_result"
    }
   ],
   "source": [
    "from typing import List\n",
    "from collections import defaultdict\n",
    "class Solution:\n",
    "    def minDominoRotations(self, tops: List[int], bottoms: List[int]) -> int:\n",
    "        count_a = defaultdict(int)\n",
    "        count_b = defaultdict(int)\n",
    "        N = len(tops)\n",
    "        same = 0\n",
    "\n",
    "        for i in range(N):\n",
    "            count_a[tops[i]] += 1\n",
    "            count_b[bottoms[i]] += 1\n",
    "\n",
    "            if tops[i] == bottoms[i]:\n",
    "                same += 1\n",
    "\n",
    "        for x in range(1,7):\n",
    "            if (count_a[x] + count_b[x] - same) == N:\n",
    "                return N - max(count_a[x], count_b[x])\n",
    "        \n",
    "        return -1\n",
    "        \n",
    "s = Solution()\n",
    "s.minDominoRotations([1,1,2,1,1,1,1,1,2,1,2,1,1,1,1,1,1,1,2,1,1,1,1,1,1,2,1,2,1,1,2,2,2,1,1,2],\n",
    "[1,2,1,1,2,1,1,1,1,1,1,2,2,2,1,1,2,1,1,2,1,2,1,2,1,1,1,1,1,2,1,1,1,2,2,1])"
   ]
  },
  {
   "cell_type": "code",
   "execution_count": null,
   "metadata": {},
   "outputs": [],
   "source": []
  }
 ],
 "metadata": {
  "kernelspec": {
   "display_name": "Python 3",
   "language": "python",
   "name": "python3"
  },
  "language_info": {
   "codemirror_mode": {
    "name": "ipython",
    "version": 3
   },
   "file_extension": ".py",
   "mimetype": "text/x-python",
   "name": "python",
   "nbconvert_exporter": "python",
   "pygments_lexer": "ipython3",
   "version": "3.11.8"
  }
 },
 "nbformat": 4,
 "nbformat_minor": 2
}
