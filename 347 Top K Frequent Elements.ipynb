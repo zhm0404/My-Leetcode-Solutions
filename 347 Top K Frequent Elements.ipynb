{
 "cells": [
  {
   "cell_type": "markdown",
   "metadata": {},
   "source": [
    "Given an integer array nums and an integer k, return the k most frequent elements. You may return the answer in any order.\n",
    "\n",
    "Example 1:\n",
    "\n",
    "Input: nums = [1,1,1,2,2,3], k = 2\n",
    "Output: [1,2]\n",
    "Example 2:\n",
    "\n",
    "Input: nums = [1], k = 1\n",
    "Output: [1]"
   ]
  },
  {
   "cell_type": "code",
   "execution_count": 60,
   "metadata": {},
   "outputs": [],
   "source": [
    "# min priority heap\n",
    "from typing import List\n",
    "import heapq\n",
    "class Solution1:\n",
    "    def topKFrequent(self, nums: List[int], k: int) -> List[int]:\n",
    "        numsSorted = sorted(nums)\n",
    "        res = []\n",
    "        for i in range(len(numsSorted)):\n",
    "            if numsSorted[i] != numsSorted[i-1] or i == 0:\n",
    "                temp = [1,numsSorted[i]] # [count, numsSorted[i]]\n",
    "            else:\n",
    "                temp[0] += 1\n",
    "            if i+1 == len(numsSorted) or numsSorted[i] != numsSorted[i+1]:\n",
    "                heapq.heappush(res,temp)\n",
    "        while len(res) > k:\n",
    "            heapq.heappop(res)\n",
    "        return [element[1] for element in res[:k]]\n",
    "\n",
    "# Optimal\n",
    "# minor difference\n",
    "# Both have a time compelxity of O(nlogn)\n",
    "from collections import Counter\n",
    "class Solution:\n",
    "    def topKFrequent(self, nums: List[int], k: int) -> List[int]:\n",
    "        freq_table = Counter(nums)\n",
    "        heap = []\n",
    "        for i in freq_table.keys():\n",
    "            heapq.heappush(heap, (freq_table[i], i))\n",
    "        freq_table = heapq.nlargest(k,heap)\n",
    "        ans = []\n",
    "        for i, j in freq_table:\n",
    "            ans.append(j)\n",
    "        return ans"
   ]
  },
  {
   "cell_type": "code",
   "execution_count": 62,
   "metadata": {},
   "outputs": [
    {
     "name": "stdout",
     "output_type": "stream",
     "text": [
      "[]\n",
      "[]\n",
      "[[3, 1]]\n",
      "[[3, 1]]\n",
      "[[2, 2], [3, 1]]\n",
      "[[1, 3], [3, 1], [2, 2]]\n",
      "[[1, 3], [3, 1], [2, 2]]\n",
      "[[1, 3], [3, 1], [2, 2]]\n",
      "[[1, 3], [3, 1], [2, 2]]\n",
      "[[1, 3], [3, 1], [2, 2], [4, 4]]\n",
      "[[3, 1], [4, 4]]\n"
     ]
    },
    {
     "data": {
      "text/plain": [
       "[1, 4]"
      ]
     },
     "execution_count": 62,
     "metadata": {},
     "output_type": "execute_result"
    }
   ],
   "source": [
    "s = Solution()\n",
    "s.topKFrequent([1,1,1,2,2,4,4,4,4,3],2)"
   ]
  }
 ],
 "metadata": {
  "kernelspec": {
   "display_name": "Python 3",
   "language": "python",
   "name": "python3"
  },
  "language_info": {
   "codemirror_mode": {
    "name": "ipython",
    "version": 3
   },
   "file_extension": ".py",
   "mimetype": "text/x-python",
   "name": "python",
   "nbconvert_exporter": "python",
   "pygments_lexer": "ipython3",
   "version": "3.11.7"
  }
 },
 "nbformat": 4,
 "nbformat_minor": 2
}
