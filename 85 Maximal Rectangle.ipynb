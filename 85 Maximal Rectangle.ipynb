{
 "cells": [
  {
   "cell_type": "code",
   "execution_count": 1,
   "metadata": {},
   "outputs": [],
   "source": [
    "class Solution(object):\n",
    "    def maximalRectangle(self, matrix):\n",
    "        \"\"\"\n",
    "        :type matrix: List[List[str]]\n",
    "        :rtype: int\n",
    "        \"\"\"\n",
    "        length = len(matrix[0])\n",
    "        heights = [0]*length\n",
    "        max_area = 0\n",
    "        for line in matrix:\n",
    "            stack = []\n",
    "            for i, v in enumerate(line):\n",
    "                if v == \"1\":\n",
    "                    heights[i] += 1\n",
    "                else:\n",
    "                    heights[i] = 0\n",
    "                while(stack and heights[i]<heights[stack[-1]]):\n",
    "                    height = heights[stack.pop()]\n",
    "                    width = i if not stack else i - stack[-1] - 1\n",
    "                    max_area = max(max_area, height * width)\n",
    "                stack.append(i)\n",
    "\n",
    "            while(stack):\n",
    "                height = heights[stack.pop()]\n",
    "                width = length if not stack else length - stack[-1] - 1\n",
    "                max_area = max(max_area, height * width)\n",
    "\n",
    "            \n",
    "        \n",
    "        return heights\n"
   ]
  },
  {
   "cell_type": "code",
   "execution_count": 2,
   "metadata": {},
   "outputs": [
    {
     "data": {
      "text/plain": [
       "[4, 0, 0, 3, 0]"
      ]
     },
     "execution_count": 2,
     "metadata": {},
     "output_type": "execute_result"
    }
   ],
   "source": [
    "matrix = [[\"1\",\"0\",\"1\",\"0\",\"0\"],[\"1\",\"0\",\"1\",\"1\",\"1\"],[\"1\",\"1\",\"1\",\"1\",\"1\"],[\"1\",\"0\",\"0\",\"1\",\"0\"]]\n",
    "s = Solution()\n",
    "s.maximalRectangle(matrix)"
   ]
  }
 ],
 "metadata": {
  "kernelspec": {
   "display_name": "Python 3",
   "language": "python",
   "name": "python3"
  },
  "language_info": {
   "codemirror_mode": {
    "name": "ipython",
    "version": 3
   },
   "file_extension": ".py",
   "mimetype": "text/x-python",
   "name": "python",
   "nbconvert_exporter": "python",
   "pygments_lexer": "ipython3",
   "version": "3.11.6"
  }
 },
 "nbformat": 4,
 "nbformat_minor": 2
}
