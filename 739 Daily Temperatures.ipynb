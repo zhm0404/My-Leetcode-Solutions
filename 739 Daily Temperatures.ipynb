{
 "cells": [
  {
   "cell_type": "code",
   "execution_count": null,
   "metadata": {},
   "outputs": [],
   "source": [
    "# Given an array of integers temperatures represents the daily temperatures, \n",
    "# return an array answer such that answer[i] is the number of days you have to \n",
    "# wait after the ith day to get a warmer temperature. If there is no future day \n",
    "# for which this is possible, keep answer[i] == 0 instead.\n",
    "\n",
    "# Example 1:\n",
    "\n",
    "# Input: temperatures = [73,74,75,71,69,72,76,73]\n",
    "# Output: [1,1,4,2,1,1,0,0]"
   ]
  }
 ],
 "metadata": {
  "language_info": {
   "name": "python"
  }
 },
 "nbformat": 4,
 "nbformat_minor": 2
}
