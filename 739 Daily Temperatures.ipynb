{
 "cells": [
  {
   "cell_type": "markdown",
   "metadata": {},
   "source": [
    "Given an array of integers temperatures represents the daily temperatures, \n",
    "return an array answer such that answer[i] is the number of days you have to \n",
    "wait after the ith day to get a warmer temperature. If there is no future day \n",
    "for which this is possible, keep answer[i] == 0 instead.\n",
    "\n",
    "Example 1:\n",
    "\n",
    "Input: temperatures = [73,74,75,71,69,72,76,73]\n",
    "Output: [1,1,4,2,1,1,0,0]"
   ]
  },
  {
   "cell_type": "code",
   "execution_count": 1,
   "metadata": {},
   "outputs": [],
   "source": [
    "class Solution(object):\n",
    "    def dailyTemperatures(self, temperatures):\n",
    "        \"\"\"\n",
    "        :type temperatures: List[int]\n",
    "        :rtype: List[int]\n",
    "        \"\"\"\n",
    "        length = len(temperatures)\n",
    "        stack = []\n",
    "        days = [0]*length # populate 0 for all days, assuming there is no future dayto get a warmer temperature\n",
    "        for i, temp in enumerate(temperatures):\n",
    "            while(stack and temperatures[stack[-1]]<temp): # for each day, pop all the days before with lower temperatures and count the number of days to wait\n",
    "                start = stack.pop()\n",
    "                days[start] = i - start\n",
    "\n",
    "            stack.append(i)\n",
    "        return days\n"
   ]
  },
  {
   "cell_type": "code",
   "execution_count": 2,
   "metadata": {},
   "outputs": [
    {
     "data": {
      "text/plain": [
       "[1, 1, 4, 2, 1, 1, 0, 0]"
      ]
     },
     "execution_count": 2,
     "metadata": {},
     "output_type": "execute_result"
    }
   ],
   "source": [
    "temps = [73,74,75,71,69,72,76,73]\n",
    "s = Solution()\n",
    "s.daystogetwarmer(temps)\n"
   ]
  }
 ],
 "metadata": {
  "kernelspec": {
   "display_name": "Python 3",
   "language": "python",
   "name": "python3"
  },
  "language_info": {
   "codemirror_mode": {
    "name": "ipython",
    "version": 3
   },
   "file_extension": ".py",
   "mimetype": "text/x-python",
   "name": "python",
   "nbconvert_exporter": "python",
   "pygments_lexer": "ipython3",
   "version": "3.11.7"
  }
 },
 "nbformat": 4,
 "nbformat_minor": 2
}
