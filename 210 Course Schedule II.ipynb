{
 "cells": [
  {
   "cell_type": "markdown",
   "metadata": {},
   "source": [
    "There are a total of numCourses courses you have to take, labeled from 0 to numCourses - 1. You are given an array prerequisites where prerequisites[i] = [ai, bi] indicates that you must take course bi first if you want to take course ai.\n",
    "\n",
    "For example, the pair [0, 1], indicates that to take course 0 you have to first take course 1.\n",
    "Return the ordering of courses you should take to finish all courses. If there are many valid answers, return any of them. If it is impossible to finish all courses, return an empty array.\n",
    "\n",
    "Example 1:\n",
    "\n",
    "Input: numCourses = 2, prerequisites = [[1,0]]\n",
    "Output: [0,1]\n",
    "Explanation: There are a total of 2 courses to take. To take course 1 you should have finished course 0. So the correct course order is [0,1].\n",
    "Example 2:\n",
    "\n",
    "Input: numCourses = 4, prerequisites = [[1,0],[2,0],[3,1],[3,2]]\n",
    "Output: [0,2,1,3]\n",
    "Explanation: There are a total of 4 courses to take. To take course 3 you should have finished both courses 1 and 2. Both courses 1 and 2 should be taken after you finished course 0.\n",
    "So one correct course order is [0,1,2,3]. Another correct ordering is [0,2,1,3].\n",
    "Example 3:\n",
    "\n",
    "Input: numCourses = 1, prerequisites = []\n",
    "Output: [0]"
   ]
  },
  {
   "cell_type": "code",
   "execution_count": 6,
   "metadata": {},
   "outputs": [
    {
     "name": "stdout",
     "output_type": "stream",
     "text": [
      "deque([0])\n",
      "1 1\n",
      "2 1\n",
      "deque([1, 2])\n",
      "3 2\n",
      "deque([2])\n",
      "3 1\n",
      "deque([3])\n"
     ]
    },
    {
     "data": {
      "text/plain": [
       "[0, 1, 2, 3]"
      ]
     },
     "execution_count": 6,
     "metadata": {},
     "output_type": "execute_result"
    }
   ],
   "source": [
    "from typing import List\n",
    "from collections import deque, defaultdict\n",
    "class Solution:\n",
    "    def findOrder(self, numCourses: int, prerequisites: List[List[int]]) -> List[int]:\n",
    "        if numCourses == 1:\n",
    "            return [0]\n",
    "\n",
    "        coursesEasy = [ i for i in range(0, numCourses)] # To store easy courses without prerequisites\n",
    "        PreToDo = defaultdict(int) # To store the number of prerequisites of hard courses\n",
    "        PreToNext = defaultdict(set) # To store the relations of pre-courses and post-courses\n",
    "        coursesHardCnt = 0 # To store the total count of hard courses \n",
    "        res = []\n",
    "\n",
    "        for relation in prerequisites:\n",
    "            course2 = relation[0]\n",
    "            PreToNext[relation[1]].add(course2)\n",
    "            PreToDo[course2] += 1\n",
    "            if course2 in coursesEasy:\n",
    "                coursesEasy.remove(course2)\n",
    "                coursesHardCnt += 1\n",
    "        \n",
    "        # BFS\n",
    "        queue = deque(coursesEasy)\n",
    "\n",
    "        while queue:\n",
    "            print(queue)\n",
    "            current = queue.popleft()\n",
    "            res.append(current)\n",
    "            \n",
    "            for course in PreToNext[current]:\n",
    "                print(course, PreToDo[course])\n",
    "                PreToDo[course] -= 1\n",
    "                if PreToDo[course] == 0:\n",
    "                    queue.append(course)\n",
    "                    coursesHardCnt -= 1\n",
    "\n",
    "        return res if coursesHardCnt == 0 else []\n",
    "\n",
    "numCourses = 4\n",
    "prerequisites = [[1,0],[2,0],[3,1],[3,2]]\n",
    "s = Solution()\n",
    "s.findOrder(numCourses, prerequisites)"
   ]
  },
  {
   "cell_type": "code",
   "execution_count": null,
   "metadata": {},
   "outputs": [],
   "source": []
  },
  {
   "cell_type": "code",
   "execution_count": null,
   "metadata": {},
   "outputs": [],
   "source": []
  }
 ],
 "metadata": {
  "kernelspec": {
   "display_name": "Python 3",
   "language": "python",
   "name": "python3"
  },
  "language_info": {
   "codemirror_mode": {
    "name": "ipython",
    "version": 3
   },
   "file_extension": ".py",
   "mimetype": "text/x-python",
   "name": "python",
   "nbconvert_exporter": "python",
   "pygments_lexer": "ipython3",
   "version": "3.11.7"
  }
 },
 "nbformat": 4,
 "nbformat_minor": 2
}
