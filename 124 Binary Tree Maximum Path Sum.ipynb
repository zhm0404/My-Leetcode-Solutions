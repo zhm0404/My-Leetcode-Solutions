{
 "cells": [
  {
   "cell_type": "markdown",
   "metadata": {},
   "source": [
    "A path in a binary tree is a sequence of nodes where each pair of adjacent nodes in the sequence has an edge connecting them. A node can only appear in the sequence at most once. Note that the path does not need to pass through the root.\n",
    "\n",
    "The path sum of a path is the sum of the node's values in the path.\n",
    "\n",
    "Given the root of a binary tree, return the maximum path sum of any non-empty path."
   ]
  },
  {
   "cell_type": "code",
   "execution_count": null,
   "metadata": {},
   "outputs": [],
   "source": [
    "# Definition for a binary tree node.\n",
    "from typing import Optional\n",
    "\n",
    "\n",
    "class TreeNode:\n",
    "     def __init__(self, val=0, left=None, right=None):\n",
    "         self.val = val\n",
    "         self.left = left\n",
    "         self.right = right\n",
    "\n",
    "\n",
    "class Solution:\n",
    "    def maxPathSum(self, root: Optional[TreeNode]) -> int:\n",
    "        \n",
    "        def maxPathSumHelper(root: Optional[TreeNode]) -> int:\n",
    "            nonlocal max_sum\n",
    "            if not root:\n",
    "                return 0\n",
    "\n",
    "            left_sum = max(maxPathSumHelper(root.left), 0)\n",
    "            right_sum = max(maxPathSumHelper(root.right), 0)\n",
    "            # root.val must be included no mater it is >=0 or L<0 because we cannot skip that node\n",
    "            tree_sum = left_sum + right_sum + root.val\n",
    "\n",
    "            # Update max_sum if the tree_sum is greater than max_sum\n",
    "            max_sum = max(max_sum, tree_sum)\n",
    "\n",
    "            # Return the maximum path sum starting from the current node downwards\n",
    "            return root.val + max(left_sum, right_sum)\n",
    "\n",
    "        \n",
    "        max_sum = float('-inf') # Initialize maximum path sum\n",
    "        maxPathSumHelper(root) # Starting from the root\n",
    "\n",
    "        return max_sum"
   ]
  },
  {
   "cell_type": "code",
   "execution_count": null,
   "metadata": {},
   "outputs": [],
   "source": []
  }
 ],
 "metadata": {
  "kernelspec": {
   "display_name": "Python 3",
   "language": "python",
   "name": "python3"
  },
  "language_info": {
   "codemirror_mode": {
    "name": "ipython",
    "version": 3
   },
   "file_extension": ".py",
   "mimetype": "text/x-python",
   "name": "python",
   "nbconvert_exporter": "python",
   "pygments_lexer": "ipython3",
   "version": "3.11.8"
  }
 },
 "nbformat": 4,
 "nbformat_minor": 2
}
