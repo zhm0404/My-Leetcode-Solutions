{
 "cells": [
  {
   "cell_type": "markdown",
   "metadata": {},
   "source": [
    "Given a m x n grid filled with non-negative numbers, find a path from top left to bottom right, which minimizes the sum of all numbers along its path.\n",
    "\n",
    "Note: You can only move either down or right at any point in time."
   ]
  },
  {
   "cell_type": "code",
   "execution_count": 15,
   "metadata": {},
   "outputs": [],
   "source": [
    "from typing import List\n",
    "class Solution():\n",
    "    # Dynamic Programming\n",
    "    def minPathSum(self, grid:List[List[int]]) -> int:\n",
    "        if not grid:\n",
    "            return 0\n",
    "\n",
    "        m, n = len(grid), len(grid[0])\n",
    "\n",
    "        # update the first row and first column in-place\n",
    "        for i in range(1, m):\n",
    "            grid[i][0] += grid[i-1][0]\n",
    "        \n",
    "        for j in range(1, n):\n",
    "            grid[0][j] += grid[0][j-1]\n",
    "\n",
    "        # update the rest area of the grid in-place\n",
    "        for i in range(1, m):\n",
    "            for j in range(1, n):\n",
    "                grid[i][j] += min(grid[i][j-1], grid[i-1][j])\n",
    "        \n",
    "        return grid[m-1][n-1]\n"
   ]
  },
  {
   "cell_type": "code",
   "execution_count": 16,
   "metadata": {},
   "outputs": [
    {
     "data": {
      "text/plain": [
       "12"
      ]
     },
     "execution_count": 16,
     "metadata": {},
     "output_type": "execute_result"
    }
   ],
   "source": [
    "s = Solution()\n",
    "s.minPathSum([[1,2,3],[4,5,6]])"
   ]
  },
  {
   "cell_type": "code",
   "execution_count": null,
   "metadata": {},
   "outputs": [],
   "source": []
  }
 ],
 "metadata": {
  "kernelspec": {
   "display_name": "Python 3",
   "language": "python",
   "name": "python3"
  },
  "language_info": {
   "codemirror_mode": {
    "name": "ipython",
    "version": 3
   },
   "file_extension": ".py",
   "mimetype": "text/x-python",
   "name": "python",
   "nbconvert_exporter": "python",
   "pygments_lexer": "ipython3",
   "version": "3.11.7"
  }
 },
 "nbformat": 4,
 "nbformat_minor": 2
}
