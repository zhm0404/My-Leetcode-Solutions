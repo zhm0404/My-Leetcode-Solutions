{
 "cells": [
  {
   "cell_type": "code",
   "execution_count": 2,
   "id": "09845e28",
   "metadata": {},
   "outputs": [],
   "source": [
    "# Given an integer array nums, return an array answer such that answer[i] is equal to the product of \n",
    "# all the elements of nums except nums[i].\n",
    "\n",
    "# The product of any prefix or suffix of nums is guaranteed to fit in a 32-bit integer.\n",
    "\n",
    "# You must write an algorithm that runs in O(n) time and without using the division operation.\n",
    "class Solution(object):\n",
    "    def productExceptSelf(self, nums):\n",
    "        \"\"\"\n",
    "        :type nums: List[int]\n",
    "        :rtype: List[int]\n",
    "        \"\"\"\n",
    "        result = [1]*len(nums)\n",
    "        result[0] = 1\n",
    "        \n",
    "        for i in range(1, len(nums), 1):\n",
    "            result[i] = result[i-1]*nums[i-1]\n",
    "        \n",
    "        right = 1\n",
    "        for i in range(len(nums)-1, 0, -1):\n",
    "            right *= nums[i]\n",
    "            result[i-1] *= right\n",
    "        \n",
    "        return result"
   ]
  }
 ],
 "metadata": {
  "kernelspec": {
   "display_name": "Python 3 (ipykernel)",
   "language": "python",
   "name": "python3"
  },
  "language_info": {
   "codemirror_mode": {
    "name": "ipython",
    "version": 3
   },
   "file_extension": ".py",
   "mimetype": "text/x-python",
   "name": "python",
   "nbconvert_exporter": "python",
   "pygments_lexer": "ipython3",
   "version": "3.10.9"
  }
 },
 "nbformat": 4,
 "nbformat_minor": 5
}
