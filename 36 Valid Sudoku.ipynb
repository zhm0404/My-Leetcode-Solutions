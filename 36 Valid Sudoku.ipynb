{
 "cells": [
  {
   "cell_type": "markdown",
   "metadata": {},
   "source": [
    "Determine if a 9 x 9 Sudoku board is valid. Only the filled cells need to be validated according to the following rules:\n",
    "\n",
    "Each row must contain the digits 1-9 without repetition.\n",
    "Each column must contain the digits 1-9 without repetition.\n",
    "Each of the nine 3 x 3 sub-boxes of the grid must contain the digits 1-9 without repetition.\n",
    "Note:\n",
    "\n",
    "A Sudoku board (partially filled) could be valid but is not necessarily solvable.\n",
    "Only the filled cells need to be validated according to the mentioned rules.\n",
    " "
   ]
  },
  {
   "cell_type": "code",
   "execution_count": 3,
   "metadata": {},
   "outputs": [],
   "source": [
    "from typing import List\n",
    "from collections import defaultdict\n",
    "class Solution:\n",
    "    def isValidSudoku(self, board: List[List[str]]) -> bool:\n",
    "        cols, rows, boxes = defaultdict(set), defaultdict(set), defaultdict(set)\n",
    "        for i in range(len(board)):\n",
    "            for j in range(len(board[0])):\n",
    "                number = board[i][j]\n",
    "                if number != '.':\n",
    "                    number = int(number)\n",
    "                    if number not in cols[j]:\n",
    "                        cols[j].add(number)\n",
    "                    else:\n",
    "                        return False\n",
    "                    \n",
    "                    if number not in rows[i]:\n",
    "                        rows[i].add(number)\n",
    "                    else:\n",
    "                        return False\n",
    "\n",
    "                    if number not in boxes[(i//3, j//3)]:\n",
    "                        boxes[(i//3, j//3)].add(number)\n",
    "                    else:\n",
    "                        return False\n",
    "        \n",
    "        return True"
   ]
  },
  {
   "cell_type": "code",
   "execution_count": null,
   "metadata": {},
   "outputs": [],
   "source": []
  }
 ],
 "metadata": {
  "kernelspec": {
   "display_name": "Python 3",
   "language": "python",
   "name": "python3"
  },
  "language_info": {
   "codemirror_mode": {
    "name": "ipython",
    "version": 3
   },
   "file_extension": ".py",
   "mimetype": "text/x-python",
   "name": "python",
   "nbconvert_exporter": "python",
   "pygments_lexer": "ipython3",
   "version": "3.11.7"
  }
 },
 "nbformat": 4,
 "nbformat_minor": 2
}
