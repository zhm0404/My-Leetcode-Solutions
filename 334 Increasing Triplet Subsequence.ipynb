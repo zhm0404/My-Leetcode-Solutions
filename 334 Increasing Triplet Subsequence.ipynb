{
 "cells": [
  {
   "cell_type": "code",
   "execution_count": null,
   "id": "69f88f21",
   "metadata": {},
   "outputs": [],
   "source": [
    "# Given an integer array nums, return true if there exists a triple of indices (i, j, k) \n",
    "# such that i < j < k and nums[i] < nums[j] < nums[k]. \n",
    "# If no such indices exists, return false.\n",
    "class Solution(object):\n",
    "    def increasingTriplet(self, nums):\n",
    "        \"\"\"\n",
    "        :type nums: List[int]\n",
    "        :rtype: bool\n",
    "        \"\"\"\n",
    "        first = second = float('inf')\n",
    "        for n in nums:\n",
    "            if n <= first:\n",
    "                first = n\n",
    "            elif n <= second:\n",
    "                second = n\n",
    "            else:\n",
    "                return True\n",
    "        return False"
   ]
  }
 ],
 "metadata": {
  "kernelspec": {
   "display_name": "Python 3 (ipykernel)",
   "language": "python",
   "name": "python3"
  },
  "language_info": {
   "codemirror_mode": {
    "name": "ipython",
    "version": 3
   },
   "file_extension": ".py",
   "mimetype": "text/x-python",
   "name": "python",
   "nbconvert_exporter": "python",
   "pygments_lexer": "ipython3",
   "version": "3.10.9"
  }
 },
 "nbformat": 4,
 "nbformat_minor": 5
}
