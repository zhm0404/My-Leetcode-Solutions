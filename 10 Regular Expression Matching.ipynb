{
 "cells": [
  {
   "cell_type": "markdown",
   "metadata": {},
   "source": [
    "Given an input string s and a pattern p, implement regular expression matching with support for '.' and '*' where:\n",
    "\n",
    "'.' Matches any single character.​​​​\n",
    "'*' Matches zero or more of the preceding element.\n",
    "The matching should cover the entire input string (not partial).\n",
    "\n",
    " \n",
    "\n",
    "Example 1:\n",
    "\n",
    "Input: s = \"aa\", p = \"a\"\n",
    "Output: false\n",
    "Explanation: \"a\" does not match the entire string \"aa\".\n",
    "Example 2:\n",
    "\n",
    "Input: s = \"aa\", p = \"a*\"\n",
    "Output: true\n",
    "Explanation: '*' means zero or more of the preceding element, 'a'. Therefore, by repeating 'a' once, it becomes \"aa\".\n",
    "Example 3:\n",
    "\n",
    "Input: s = \"ab\", p = \".*\"\n",
    "Output: true\n",
    "Explanation: \".*\" means \"zero or more (*) of any character (.)\".\n",
    " \n",
    "\n",
    "Constraints:\n",
    "\n",
    "1 <= s.length <= 20\n",
    "1 <= p.length <= 20\n",
    "s contains only lowercase English letters.\n",
    "p contains only lowercase English letters, '.', and '*'.\n",
    "It is guaranteed for each appearance of the character '*', there will be a previous valid character to match."
   ]
  },
  {
   "cell_type": "code",
   "execution_count": 23,
   "metadata": {},
   "outputs": [
    {
     "data": {
      "text/plain": [
       "[[True, False], [False, True], [False, False]]"
      ]
     },
     "execution_count": 23,
     "metadata": {},
     "output_type": "execute_result"
    }
   ],
   "source": [
    "# Dynamic programming\n",
    "class Solution:\n",
    "    def isMatch(self, s: str, p: str) -> bool:\n",
    "        # Initialize the dp array\n",
    "        dp = [[False] * (len(p) + 1) for i in range(len(s)+1)]\n",
    "\n",
    "        # Fill the first row\n",
    "        dp[0][0] = True\n",
    "        for j in range(1, len(p) + 1):\n",
    "            if p[j-1] == '*':\n",
    "                dp[0][j] = dp[0][j-2]\n",
    "\n",
    "        # The first column has already been populated with False\n",
    "\n",
    "        # Fill the rest of the dp array\n",
    "        for i in range(1, len(s) + 1):\n",
    "            for j in range(1, len(p) + 1):\n",
    "                if p[j-1] == s[i-1] or p[j-1] == '.':\n",
    "                    dp[i][j] = dp[i-1][j-1]\n",
    "                \n",
    "                elif p[j-1] == '*':\n",
    "                    # treat p[j-2] + p[j-1] as empty\n",
    "                    # or treat p[j-1] as the preceding element p[j-2]\n",
    "                    dp[i][j] = dp[i][j-2] or ( (s[i-1]==p[j-2] or p[j-2] == '.') and dp[i-1][j])\n",
    "\n",
    "\n",
    "        return dp[len(s)][len(p)]\n",
    "\n",
    "s = Solution()\n",
    "s.isMatch(\"aa\", \"a\")"
   ]
  },
  {
   "cell_type": "code",
   "execution_count": null,
   "metadata": {},
   "outputs": [],
   "source": []
  }
 ],
 "metadata": {
  "kernelspec": {
   "display_name": "Python 3",
   "language": "python",
   "name": "python3"
  },
  "language_info": {
   "codemirror_mode": {
    "name": "ipython",
    "version": 3
   },
   "file_extension": ".py",
   "mimetype": "text/x-python",
   "name": "python",
   "nbconvert_exporter": "python",
   "pygments_lexer": "ipython3",
   "version": "3.11.7"
  }
 },
 "nbformat": 4,
 "nbformat_minor": 2
}
