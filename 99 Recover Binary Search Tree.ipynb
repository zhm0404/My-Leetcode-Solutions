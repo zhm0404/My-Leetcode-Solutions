{
 "cells": [
  {
   "cell_type": "markdown",
   "metadata": {},
   "source": [
    "99. Recover Binary Search Tree\n",
    "\n",
    "You are given the root of a binary search tree (BST), where the values of exactly two nodes of the tree were swapped by mistake. Recover the tree without changing its structure.\n",
    "\n",
    "Input: root = [1,3,null,null,2]\n",
    "Output: [3,1,null,null,2]\n",
    "Explanation: 3 cannot be a left child of 1 because 3 > 1. Swapping 1 and 3 makes the BST valid."
   ]
  },
  {
   "cell_type": "code",
   "execution_count": null,
   "metadata": {},
   "outputs": [],
   "source": [
    "# Definition for a binary tree node.\n",
    "class TreeNode:\n",
    "    def __init__(self, val=0, left=None, right=None):\n",
    "        self.val = val\n",
    "        self.left = left\n",
    "        self.right = right\n",
    "\n",
    "from typing import List, Optional\n",
    "\n",
    "class Solution:\n",
    "    def recoverTree(self, root: Optional[TreeNode]) -> None:\n",
    "        \"\"\"\n",
    "        Do not return anything, modify root in-place instead.\n",
    "        \"\"\"\n",
    "        # Similar to Problem 98, We're taking advantage of the nature of inorder traversal. \n",
    "        # The values of the nodes we're traversing should be in ascending order. \n",
    "        # I.e., the current node's value should be greater than the previous node's value.\n",
    "        prevnode = TreeNode(float('-inf'))\n",
    "\n",
    "        temp = [None, None] # placeholder for the two nodes which are swapped\n",
    "        def inorder(node: Optional[TreeNode]) -> None:\n",
    "            nonlocal prevnode\n",
    "            \n",
    "            if not node:\n",
    "                return\n",
    "            \n",
    "            inorder(node.left)\n",
    "\n",
    "            if node.val < prevnode.val:\n",
    "                if not temp[0]: # if the mistake only happens once, then it intends that two neighbors are swapped\n",
    "                    temp[0] = prevnode\n",
    "                    temp[1] = node\n",
    "                else: # else two prevs are swapped\n",
    "                    temp[1] = node\n",
    "\n",
    "            prevnode = node\n",
    "\n",
    "            inorder(node.right)\n",
    "            return\n",
    "            \n",
    "        # Perform in-order traversal to find the two swapped nodes\n",
    "        inorder(root)\n",
    "\n",
    "        # Swap the values of the two nodes to correct the tree\n",
    "        if temp[0] and temp[1]:\n",
    "            temp[0].val, temp[1].val = temp[1].val, temp[0].val\n",
    "\n",
    "\n",
    "\n"
   ]
  }
 ],
 "metadata": {
  "language_info": {
   "name": "python"
  }
 },
 "nbformat": 4,
 "nbformat_minor": 2
}
