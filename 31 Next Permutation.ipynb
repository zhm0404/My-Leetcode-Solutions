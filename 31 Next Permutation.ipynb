{
 "cells": [
  {
   "cell_type": "code",
   "execution_count": 1,
   "id": "7fdac227",
   "metadata": {},
   "outputs": [],
   "source": [
    "# A permutation of an array of integers is an arrangement of its members into a sequence or linear order.\n",
    "# For example, for arr = [1,2,3], the following are all the permutations of arr: [1,2,3], [1,3,2], [2, 1, 3]\n",
    "# , [2, 3, 1], [3,1,2], [3,2,1].\n",
    "# The next permutation of an array of integers is the next lexicographically greater permutation of its \n",
    "# integer. More formally, if all the permutations of the array are sorted in one container according to \n",
    "# their lexicographical order, then the next permutation of that array is the permutation that follows it in \n",
    "# the sorted container. If such arrangement is not possible, the array must be rearranged as the \n",
    "# lowest possible order (i.e., sorted in ascending order).\n",
    "\n",
    "# For example, the next permutation of arr = [1,2,3] is [1,3,2].\n",
    "# Similarly, the next permutation of arr = [2,3,1] is [3,1,2].\n",
    "# While the next permutation of arr = [3,2,1] is [1,2,3] because [3,2,1] does not have a lexicographical \n",
    "#larger rearrangement.\n",
    "# Given an array of integers nums, find the next permutation of nums.\n",
    "\n",
    "# The replacement must be in place and use only constant extra memory.\n",
    "class Solution(object):\n",
    "    def nextPermutation(self, nums):\n",
    "        \"\"\"\n",
    "        :type nums: List[int]\n",
    "        :rtype: None Do not return anything, modify nums in-place instead.\n",
    "        \"\"\"\n",
    "        max = nums[-1]\n",
    "        if len(nums) == 1:\n",
    "            return None\n",
    "        # Only need to solve the problem when n > 1\n",
    "        else:\n",
    "            # iterate the list backwards \n",
    "            for i in range(len(nums)-2, -1, -1):\n",
    "                if nums[i]>=max:\n",
    "                    # update the max value\n",
    "                    max = nums[i]\n",
    "                    # take out the nums[i] and append it to the end of the list\n",
    "                    # we do this because when we found the next permuation, we don't need to go through the sublist again\n",
    "                    b = (nums[:i] + nums[i+1:])\n",
    "                    b.append(nums[i])\n",
    "                    nums[:] = b\n",
    "                else:\n",
    "                # if nums[i] < nums [i+1]: Ok, found the next permutation\n",
    "                    for j in range(i+1,len(nums),1):\n",
    "                        # nums[j:] has already been sorted, so it's sufficient to just switch nums[i] with the smallest nums[j]\n",
    "                        # (because nums[j:] has already been sorted, nums[j] is the smallest nums[j] which is greater than nums[i])\n",
    "                        if nums[i] < nums[j]:\n",
    "                            tmp = nums[i]\n",
    "                            nums[i] = nums[j]\n",
    "                            nums[j] = tmp\n",
    "                            break\n",
    "                    break\n",
    "            return None\n",
    "        \n",
    "        3,2,4,1,5,6,7\n",
    "\n",
    "        5,4,1,2,3,6"
   ]
  },
  {
   "cell_type": "code",
   "execution_count": null,
   "metadata": {},
   "outputs": [],
   "source": []
  }
 ],
 "metadata": {
  "kernelspec": {
   "display_name": "Python 3 (ipykernel)",
   "language": "python",
   "name": "python3"
  },
  "language_info": {
   "codemirror_mode": {
    "name": "ipython",
    "version": 3
   },
   "file_extension": ".py",
   "mimetype": "text/x-python",
   "name": "python",
   "nbconvert_exporter": "python",
   "pygments_lexer": "ipython3",
   "version": "3.11.7"
  }
 },
 "nbformat": 4,
 "nbformat_minor": 5
}
