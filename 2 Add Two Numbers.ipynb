{
 "cells": [
  {
   "cell_type": "code",
   "execution_count": null,
   "id": "17d98262",
   "metadata": {},
   "outputs": [],
   "source": [
    "#You are given two non-empty linked lists representing two non-negative integers. \n",
    "#The digits are stored in reverse order, and each of their nodes contains a single digit. Add the two numbers and return the sum as a linked list.\n",
    "#You may assume the two numbers do not contain any leading zero, except the number 0 itself.\n",
    "\n",
    "# Definition for singly-linked list.\n",
    "class ListNode(object):\n",
    "    def __init__(self, val=0, next=None):\n",
    "        self.val = val\n",
    "        self.next = next\n",
    "\n",
    "class Solution(object):\n",
    "    def addTwoNumbers(self, l1, l2):\n",
    "        \"\"\"\n",
    "        :type l1: ListNode\n",
    "        :type l2: ListNode\n",
    "        :rtype: ListNode\n",
    "        \"\"\"\n",
    "        # create a new linked list starting from the dummyHead to save our results.\n",
    "        dummyHead = ListNode(0)\n",
    "        tail = dummyHead\n",
    "        carry = 0\n",
    "        \n",
    "        while l1!=None or l2!=None or carry!=0:\n",
    "            # caculate the current digit\n",
    "            digit1=l1.val if l1!=None else 0\n",
    "            digit2=l2.val if l2!=None else 0\n",
    "            sum = digit1 + digit2 + carry\n",
    "            digit = sum%10\n",
    "            # save the current digit to the ListNode and add it to the linked list that we created.\n",
    "            newNode = ListNode(digit)\n",
    "            tail.next = newNode\n",
    "            tail = tail.next\n",
    "\n",
    "            # get the carry over and the numbers for the next digit\n",
    "            carry = sum//10\n",
    "            l1 = l1.next if l1!=None else None\n",
    "            l2 = l2.next if l2!=None else None\n",
    "        \n",
    "        result = dummyHead.next\n",
    "        # disconnect the dummyHead with the result linked list.\n",
    "        dummyHead.next = None\n",
    "        return result"
   ]
  }
 ],
 "metadata": {
  "kernelspec": {
   "display_name": "Python 3 (ipykernel)",
   "language": "python",
   "name": "python3"
  },
  "language_info": {
   "codemirror_mode": {
    "name": "ipython",
    "version": 3
   },
   "file_extension": ".py",
   "mimetype": "text/x-python",
   "name": "python",
   "nbconvert_exporter": "python",
   "pygments_lexer": "ipython3",
   "version": "3.10.9"
  }
 },
 "nbformat": 4,
 "nbformat_minor": 5
}
