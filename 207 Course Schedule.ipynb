{
 "cells": [
  {
   "cell_type": "markdown",
   "metadata": {},
   "source": [
    "There are a total of numCourses courses you have to take, labeled from 0 to numCourses - 1. You are given an array prerequisites where prerequisites[i] = [ai, bi] indicates that you must take course bi first if you want to take course ai.\n",
    "\n",
    "For example, the pair [0, 1], indicates that to take course 0 you have to first take course 1.\n",
    "Return true if you can finish all courses. Otherwise, return false.\n",
    "\n",
    "Example 1:\n",
    "\n",
    "Input: numCourses = 2, prerequisites = [[1,0]]\n",
    "Output: true\n",
    "Explanation: There are a total of 2 courses to take. \n",
    "To take course 1 you should have finished course 0. So it is possible.\n",
    "Example 2:\n",
    "\n",
    "Input: numCourses = 2, prerequisites = [[1,0],[0,1]]\n",
    "Output: false\n",
    "Explanation: There are a total of 2 courses to take. \n",
    "To take course 1 you should have finished course 0, and to take course 0 you should also have finished course 1. So it is impossible.\n",
    "\n",
    "Constraints:\n",
    "\n",
    "1 <= numCourses <= 2000\n",
    "0 <= prerequisites.length <= 5000\n",
    "prerequisites[i].length == 2\n",
    "0 <= ai, bi < numCourses\n",
    "All the pairs prerequisites[i] are unique."
   ]
  },
  {
   "cell_type": "code",
   "execution_count": 21,
   "metadata": {},
   "outputs": [
    {
     "data": {
      "text/plain": [
       "False"
      ]
     },
     "execution_count": 21,
     "metadata": {},
     "output_type": "execute_result"
    }
   ],
   "source": [
    "from typing import List\n",
    "from collections import defaultdict, deque\n",
    "class Solution:\n",
    "    def canFinish(self, numCourses: int,  prerequisites: List[List[int]]) -> bool:\n",
    "        if numCourses == 1:\n",
    "            return True\n",
    "        \n",
    "        coursesEasy = {i for i in range(0, numCourses)} # To store courses without prerequisites\n",
    "        PreToNext = defaultdict(set) # Initialize the dictionary to store courses and its prerequisites\n",
    "        CntOfItsPre = defaultdict(int) # Initialize a dictionary to store the count of prerequisites of each hard course\n",
    "        coursesHardCnt = 0\n",
    "\n",
    "        for relation in prerequisites:\n",
    "            course2 = relation[0]\n",
    "            PreToNext[relation[1]].add(course2)\n",
    "            CntOfItsPre[course2] += 1\n",
    "\n",
    "            if course2 in coursesEasy:\n",
    "                coursesEasy.remove(course2)\n",
    "                coursesHardCnt += 1\n",
    "        \n",
    "        queue = deque(coursesEasy)\n",
    "        # BFS\n",
    "        while queue:\n",
    "            course = queue.popleft()\n",
    "            for coursehard in PreToNext[course]:\n",
    "                CntOfItsPre[coursehard] -= 1\n",
    "                if CntOfItsPre[coursehard] == 0:\n",
    "                    queue.append(coursehard)\n",
    "                    coursesHardCnt -= 1\n",
    "\n",
    "        return True if coursesHardCnt == 0 else False\n",
    "\n",
    "s = Solution()\n",
    "s.canFinish(3, [[1,0],[1,2],[0,1]])"
   ]
  },
  {
   "cell_type": "code",
   "execution_count": null,
   "metadata": {},
   "outputs": [],
   "source": []
  },
  {
   "cell_type": "code",
   "execution_count": null,
   "metadata": {},
   "outputs": [],
   "source": []
  }
 ],
 "metadata": {
  "kernelspec": {
   "display_name": "Python 3",
   "language": "python",
   "name": "python3"
  },
  "language_info": {
   "codemirror_mode": {
    "name": "ipython",
    "version": 3
   },
   "file_extension": ".py",
   "mimetype": "text/x-python",
   "name": "python",
   "nbconvert_exporter": "python",
   "pygments_lexer": "ipython3",
   "version": "3.11.7"
  }
 },
 "nbformat": 4,
 "nbformat_minor": 2
}
