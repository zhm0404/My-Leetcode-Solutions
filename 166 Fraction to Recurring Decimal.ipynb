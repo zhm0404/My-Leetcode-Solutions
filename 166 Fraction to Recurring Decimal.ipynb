{
 "cells": [
  {
   "cell_type": "code",
   "execution_count": null,
   "id": "fa4c1a49",
   "metadata": {},
   "outputs": [],
   "source": [
    "# Given two integers representing the numerator and denominator of a fraction, return the fraction in string \n",
    "# format.\n",
    "\n",
    "# If the fractional part is repeating, enclose the repeating part in parentheses.\n",
    "\n",
    "# If multiple answers are possible, return any of them.\n",
    "\n",
    "# It is guaranteed that the length of the answer string is less than 104 for all the given inputs.\n",
    "class Solution(object):\n",
    "    def fractionToDecimal(self, numerator, denominator):\n",
    "        \"\"\"\n",
    "        :type numerator: int\n",
    "        :type denominator: int\n",
    "        :rtype: str\n",
    "        \"\"\"\n",
    "        if denominator == 0:\n",
    "            return \"\"\n",
    "        elif numerator == 0:\n",
    "            return \"0\"\n",
    "\n",
    "        result = \"\"\n",
    "        if (numerator<0) ^ (denominator<0):\n",
    "            result += \"-\"\n",
    "        numerator, denominator = abs(numerator), abs(denominator)\n",
    "        \n",
    "        result += str(numerator//denominator)\n",
    "        remainder = numerator % denominator\n",
    "        if remainder == 0:\n",
    "            return result\n",
    "        \n",
    "        result += '.'\n",
    "        remainder_dict = {}\n",
    "        \n",
    "        while remainder != 0 and remainder not in remainder_dict:\n",
    "            remainder_dict[remainder] = len(result)\n",
    "            remainder *= 10\n",
    "            result += str(remainder//denominator)\n",
    "            remainder = remainder % denominator\n",
    "        \n",
    "        if remainder != 0:\n",
    "            result = result[:remainder_dict[remainder]] + \"(\" + result[remainder_dict[remainder]:] +\")\"\n",
    "\n",
    "        return result"
   ]
  }
 ],
 "metadata": {
  "kernelspec": {
   "display_name": "Python 3 (ipykernel)",
   "language": "python",
   "name": "python3"
  },
  "language_info": {
   "codemirror_mode": {
    "name": "ipython",
    "version": 3
   },
   "file_extension": ".py",
   "mimetype": "text/x-python",
   "name": "python",
   "nbconvert_exporter": "python",
   "pygments_lexer": "ipython3",
   "version": "3.10.9"
  }
 },
 "nbformat": 4,
 "nbformat_minor": 5
}
