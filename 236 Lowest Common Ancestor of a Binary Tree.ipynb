{
 "cells": [
  {
   "cell_type": "markdown",
   "metadata": {},
   "source": [
    "Given a binary tree, find the lowest common ancestor (LCA) of two given nodes in the tree.\n",
    "\n",
    "According to the definition of LCA on Wikipedia: “The lowest common ancestor is defined between two nodes p and q as the lowest node in T that has both p and q as descendants (where we allow a node to be a descendant of itself).”\n",
    "\n",
    " "
   ]
  },
  {
   "cell_type": "code",
   "execution_count": null,
   "metadata": {},
   "outputs": [],
   "source": [
    "# Definition for a binary tree node.\n",
    "from typing import Tuple\n",
    "\n",
    "\n",
    "class TreeNode:\n",
    "    def __init__(self, x):\n",
    "        self.val = x\n",
    "        self.left = None\n",
    "        self.right = None\n",
    "\n",
    "class Solution:\n",
    "    def lowestCommonAncestor(self, root: 'TreeNode', p: 'TreeNode', q: 'TreeNode') -> 'TreeNode':\n",
    "\t\t\t\t# If looking for me, return myself\n",
    "        if root == p or root == q:\n",
    "            return root\n",
    "        \n",
    "        left = right = None\n",
    "        # else look in left and right child\n",
    "        if root.left:\n",
    "            left = self.lowestCommonAncestor(root.left, p, q)\n",
    "        if root.right:\n",
    "            right = self.lowestCommonAncestor(root.right, p, q)\n",
    "\n",
    "        # if both children returned a node, means\n",
    "        # both p and q found so parent is LCA\n",
    "        if left and right:\n",
    "            return root\n",
    "        else:\n",
    "        # either one of the chidren returned a node, meaning either p or q found on left or right branch.\n",
    "        # Example: assuming 'p' found in left child, right child returned 'None'. This means 'q' is\n",
    "        # somewhere below node where 'p' was found we dont need to search all the way, \n",
    "        # because in such scenarios, node where 'p' found is LCA\n",
    "            return left or right"
   ]
  },
  {
   "cell_type": "code",
   "execution_count": 2,
   "metadata": {},
   "outputs": [
    {
     "name": "stdout",
     "output_type": "stream",
     "text": [
      "None\n"
     ]
    }
   ],
   "source": []
  },
  {
   "cell_type": "code",
   "execution_count": null,
   "metadata": {},
   "outputs": [],
   "source": []
  }
 ],
 "metadata": {
  "kernelspec": {
   "display_name": "Python 3",
   "language": "python",
   "name": "python3"
  },
  "language_info": {
   "codemirror_mode": {
    "name": "ipython",
    "version": 3
   },
   "file_extension": ".py",
   "mimetype": "text/x-python",
   "name": "python",
   "nbconvert_exporter": "python",
   "pygments_lexer": "ipython3",
   "version": "3.11.8"
  }
 },
 "nbformat": 4,
 "nbformat_minor": 2
}
