{
 "cells": [
  {
   "cell_type": "code",
   "execution_count": 68,
   "metadata": {},
   "outputs": [],
   "source": [
    "# Brute Force\n",
    "class Solution1:\n",
    "    def longestPalindrome(self, s: str) -> str:\n",
    "        dict = {}\n",
    "        res = []\n",
    "        # record all the character duplicates in a dictionary\n",
    "        for i, ch in enumerate(s):\n",
    "            if ch not in dict:\n",
    "                dict[ch] = []\n",
    "            dict[ch].append(i)\n",
    "            # check if there is a palindrome\n",
    "            if len(dict[ch]) > 1:\n",
    "                for j in range(len(dict[ch])-1):\n",
    "                    start = dict[ch][j]\n",
    "                    end = i\n",
    "                    if end-start+1 <= len(res):\n",
    "                        break\n",
    "                    k = 0\n",
    "                    while(start+k<=end-k):\n",
    "                        check = s[start+k] == s[end-k]\n",
    "                        k += 1\n",
    "                        if not check:\n",
    "                            break\n",
    "                    # if this is a palindrome and length > the current result\n",
    "                    if check:\n",
    "                        res = s[start:end+1]\n",
    "                        break\n",
    "\n",
    "        return res if res else s[0]\n",
    "\n",
    "\n",
    "# There will be a palindrome at the current index if and only if there is a palindrome at the previous index\n",
    "# or there is a new 'root' of palindrome at the current index\n",
    "class Solution2:\n",
    "    def longestPalindrome(self, s: str) -> str:\n",
    "        indexToStart = {}\n",
    "        res = []\n",
    "        indexToStart[0] = []\n",
    "        for i, ch in enumerate(s[1:], start = 1):\n",
    "            # 1. if s[i-1] is the end of a palindrome\n",
    "            # 'ccccccccccccccccccccccccccc' will be time consuming\n",
    "            flag = False\n",
    "            indexToStart[i] = []\n",
    "            if len(indexToStart[i-1])>0:\n",
    "                for start in indexToStart[i-1]:\n",
    "                    if start - 1 >=0 and s[start-1] == s[i]:  \n",
    "                        indexToStart[i].append(start-1)\n",
    "                        if i-(start-1)+1 > len(res) and not flag:\n",
    "                            res = s[start-1:i+1]\n",
    "                            flag = True\n",
    "            # 2. if s[i-2] == s[i] \n",
    "            if i-2>=0 and s[i-2] == s[i]:\n",
    "                indexToStart[i].append(i-2)\n",
    "                if 3> len(res) and not flag:\n",
    "                    res = s[i-2:i+1]\n",
    "                    flag = True                   \n",
    "\n",
    "            # 3. if s[i-1] == s[i]\n",
    "            if i-1>=0 and s[i-1] == s[i]:\n",
    "                indexToStart[i].append(i-1)\n",
    "                if 2> len(res) and not flag:\n",
    "                    res = s[i-1:i+1]\n",
    "\n",
    "        return res if res else s[0]\n",
    "\n",
    "# Optimal\n",
    "class Solution:\n",
    "    def longestPalindrome(self, s):\n",
    "        def expand(l, r):\n",
    "            while l >= 0 and r < len(s) and s[l] == s[r]:\n",
    "                l -= 1\n",
    "                r += 1\n",
    "            return s[l+1:r]\n",
    "\n",
    "        result = \"\"\n",
    "        for i in range(len(s)):\n",
    "            sub1 = expand(i, i)\n",
    "            if len(sub1) > len(result):\n",
    "                result = sub1\n",
    "            sub2 = expand(i, i+1)\n",
    "            if len(sub2) > len(result):\n",
    "                result = sub2\n",
    "        return result\n",
    "\n"
   ]
  },
  {
   "cell_type": "code",
   "execution_count": 67,
   "metadata": {},
   "outputs": [
    {
     "data": {
      "text/plain": [
       "'cacbddbcac'"
      ]
     },
     "execution_count": 67,
     "metadata": {},
     "output_type": "execute_result"
    }
   ],
   "source": [
    "s = Solution()\n",
    "s.longestPalindrome('abbacacbddbcacb')\n"
   ]
  },
  {
   "cell_type": "code",
   "execution_count": null,
   "metadata": {},
   "outputs": [],
   "source": []
  }
 ],
 "metadata": {
  "kernelspec": {
   "display_name": "Python 3",
   "language": "python",
   "name": "python3"
  },
  "language_info": {
   "codemirror_mode": {
    "name": "ipython",
    "version": 3
   },
   "file_extension": ".py",
   "mimetype": "text/x-python",
   "name": "python",
   "nbconvert_exporter": "python",
   "pygments_lexer": "ipython3",
   "version": "3.11.7"
  }
 },
 "nbformat": 4,
 "nbformat_minor": 2
}
