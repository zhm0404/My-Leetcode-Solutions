{
 "cells": [
  {
   "cell_type": "markdown",
   "metadata": {},
   "source": [
    "4. Median of Two Sorted Arrays\n",
    "\n",
    "Given two sorted arrays nums1 and nums2 of size m and n respectively, return the median of the two sorted arrays.\n",
    "\n",
    "The overall run time complexity should be O(log (m+n))."
   ]
  },
  {
   "cell_type": "code",
   "execution_count": null,
   "metadata": {},
   "outputs": [],
   "source": [
    "from typing import List\n",
    "class Solution:\n",
    "    def findMedianSortedArrays(self, nums1: List[int], nums2: List[int]) -> float:\n",
    "        # let nums1 be the shorter list\n",
    "        if len(nums1) > len(nums2):\n",
    "            nums1, nums2 = nums2, nums1\n",
    "        \n",
    "        l1 = len(nums1)\n",
    "        l2 = len(nums2)\n",
    "        low = 0\n",
    "        high = l1 # partitionX could be 1 unit larger than l1 - 1\n",
    "\n",
    "        while low<=high:\n",
    "            # partition nums into two parts. It doens't matter what the index exactly is, as long as it's doing the binary search\n",
    "            partitionX = (low + high)//2\n",
    "            \n",
    "            # if (l1+l2)%2 == 0: We want the length of the subset of elements located to the left side(including) of the partition point to be median1 + 2\n",
    "            # median1 is the left part of the median when the total count is even \n",
    "            # if (l1+l2)%2 == 1: We want the length of the subset of elements located to the left side(including) of the partition point to be median + 2\n",
    "            countLeft = (l1+l2+1)//2 + 2 # median1/median + 2 \n",
    "            partitionY = countLeft - (partitionX + 1) - 1 # Now len(nums1[:partitionX]) + len(nums2[:partitionY]) == median1/median + 2\n",
    "\n",
    "            topOfLeftX = nums1[partitionX-1] if partitionX-1>=0 else float('-inf')\n",
    "            botOfRightX = nums1[partitionX] if partitionX<=l1-1 else float('inf')\n",
    "\n",
    "            topOfLeftY = nums2[partitionY-1] if partitionY-1>=0 else float('-inf')\n",
    "            botOfRightY = nums2[partitionY] if partitionY<=l2-1 else float('inf')\n",
    "\n",
    "            # check if nums1[partitionX-1] or nums[partitionY-1] is median or median1\n",
    "            if topOfLeftX<=botOfRightY and topOfLeftY<=botOfRightX:\n",
    "                if (l1+l2)%2 == 0:\n",
    "                    return (max(topOfLeftX, topOfLeftY) + min(botOfRightX, botOfRightY))/2\n",
    "                else:\n",
    "                    return max(topOfLeftX, topOfLeftY)\n",
    "            \n",
    "            elif topOfLeftX>botOfRightY:\n",
    "                high = partitionX - 1\n",
    "            else:\n",
    "                low = partitionX + 1\n",
    "                "
   ]
  }
 ],
 "metadata": {
  "kernelspec": {
   "display_name": "Python 3",
   "language": "python",
   "name": "python3"
  },
  "language_info": {
   "name": "python",
   "version": "3.11.7"
  }
 },
 "nbformat": 4,
 "nbformat_minor": 2
}
