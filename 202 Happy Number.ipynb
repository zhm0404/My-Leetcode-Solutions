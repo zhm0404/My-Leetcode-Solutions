{
 "cells": [
  {
   "cell_type": "code",
   "execution_count": null,
   "id": "a2a28a54",
   "metadata": {},
   "outputs": [],
   "source": [
    "# Write an algorithm to determine if a number n is happy.\n",
    "\n",
    "# A happy number is a number defined by the following process:\n",
    "\n",
    "# Starting with any positive integer, replace the number by the sum of the squares of its digits.\n",
    "# Repeat the process until the number equals 1 (where it will stay), or it loops endlessly in a cycle \n",
    "# which does not include 1.\n",
    "# Those numbers for which this process ends in 1 are happy.\n",
    "# Return true if n is a happy number, and false if not.\n",
    "class Solution(object):\n",
    "    def isHappy(self, n):\n",
    "        \"\"\"\n",
    "        :type n: int\n",
    "        :rtype: bool\n",
    "        \"\"\"\n",
    "        if n <= 0:\n",
    "            return None\n",
    "        \n",
    "        sum_dict ={}\n",
    "        digit = 0\n",
    "        sum = n\n",
    "            \n",
    "        while sum!=1 and sum not in sum_dict:\n",
    "            sum_dict[sum] = 1\n",
    "            sum = 0\n",
    "            while n!= 0:\n",
    "                digit = n%10\n",
    "                sum += digit*digit\n",
    "                n = (n - digit)/10\n",
    "            n = sum\n",
    "            \n",
    "        if sum == 1:\n",
    "            return True\n",
    "        else:\n",
    "            return False\n",
    " "
   ]
  }
 ],
 "metadata": {
  "kernelspec": {
   "display_name": "Python 3 (ipykernel)",
   "language": "python",
   "name": "python3"
  },
  "language_info": {
   "codemirror_mode": {
    "name": "ipython",
    "version": 3
   },
   "file_extension": ".py",
   "mimetype": "text/x-python",
   "name": "python",
   "nbconvert_exporter": "python",
   "pygments_lexer": "ipython3",
   "version": "3.10.9"
  }
 },
 "nbformat": 4,
 "nbformat_minor": 5
}
