{
 "cells": [
  {
   "cell_type": "markdown",
   "metadata": {},
   "source": [
    "Given a string containing digits from 2-9 inclusive, return all possible letter combinations that the number could represent. Return the answer in any order.\n",
    "\n",
    "A mapping of digits to letters (just like on the telephone buttons) is given below. Note that 1 does not map to any letters."
   ]
  },
  {
   "cell_type": "code",
   "execution_count": 13,
   "metadata": {},
   "outputs": [],
   "source": [
    "from typing import List\n",
    "class Solution:\n",
    "    def letterCombinations(self, digits: str) -> List[str]:\n",
    "        if digits == \"\":\n",
    "            return []\n",
    "        self.dict ={\n",
    "                '1': None,\n",
    "                '2': 'abc',\n",
    "                '3': 'def',\n",
    "                '4': 'ghi',\n",
    "                '5': 'jkl',\n",
    "                '6': 'mno',\n",
    "                '7': 'pqrs',\n",
    "                '8': 'tuv',\n",
    "                '9': 'wxyz',\n",
    "                '0': None\n",
    "        }\n",
    "        self.digits = digits\n",
    "        self.res = []\n",
    "        self.l = len(digits)\n",
    "        self._findNextLetter(0, '')\n",
    "        return self.res\n",
    "            \n",
    "        \n",
    "    def _findNextLetter(self, i: int, word: str):\n",
    "        if i == self.l:\n",
    "            self.res.append(word)\n",
    "            return\n",
    "        \n",
    "        for letter in self.dict[self.digits[i]]:\n",
    "            wordtemp = word\n",
    "            wordtemp += letter\n",
    "            self._findNextLetter(i+1, wordtemp)\n",
    "\n",
    "        return\n",
    "            "
   ]
  },
  {
   "cell_type": "code",
   "execution_count": 14,
   "metadata": {},
   "outputs": [
    {
     "data": {
      "text/plain": [
       "['ad', 'ae', 'af', 'bd', 'be', 'bf', 'cd', 'ce', 'cf']"
      ]
     },
     "execution_count": 14,
     "metadata": {},
     "output_type": "execute_result"
    }
   ],
   "source": [
    "s = Solution()\n",
    "s.letterCombinations(\"23\")"
   ]
  },
  {
   "cell_type": "code",
   "execution_count": null,
   "metadata": {},
   "outputs": [],
   "source": []
  }
 ],
 "metadata": {
  "kernelspec": {
   "display_name": "Python 3",
   "language": "python",
   "name": "python3"
  },
  "language_info": {
   "codemirror_mode": {
    "name": "ipython",
    "version": 3
   },
   "file_extension": ".py",
   "mimetype": "text/x-python",
   "name": "python",
   "nbconvert_exporter": "python",
   "pygments_lexer": "ipython3",
   "version": "3.11.7"
  }
 },
 "nbformat": 4,
 "nbformat_minor": 2
}
