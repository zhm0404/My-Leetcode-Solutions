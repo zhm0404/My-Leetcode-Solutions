{
 "cells": [
  {
   "cell_type": "markdown",
   "metadata": {},
   "source": [
    "Given an integer array nums, return an integer array counts where counts[i] is the number of smaller elements to the right of nums[i].\n",
    "\n",
    "Example 1:\n",
    "\n",
    "Input: nums = [5,2,6,1]\n",
    "Output: [2,1,1,0]\n",
    "Explanation:\n",
    "To the right of 5 there are 2 smaller elements (2 and 1).\n",
    "To the right of 2 there is only 1 smaller element (1).\n",
    "To the right of 6 there is 1 smaller element (1).\n",
    "To the right of 1 there is 0 smaller element.\n",
    "Example 2:\n",
    "\n",
    "Input: nums = [-1]\n",
    "Output: [0]\n",
    "Example 3:\n",
    "\n",
    "Input: nums = [-1,-1]\n",
    "Output: [0,0]"
   ]
  },
  {
   "cell_type": "code",
   "execution_count": 3,
   "metadata": {},
   "outputs": [],
   "source": [
    "# Use Binary Index Tree/ Fenwick Tree\n",
    "from typing import List\n",
    "class Solution:\n",
    "    def countSmaller(self, nums: List[int]) -> List[int]:\n",
    "        # convert this problem to a prefix sum problem\n",
    "        # sort the list and get the rank for each unique element\n",
    "        ranks = {}\n",
    "        for i, num in enumerate(sorted(set(nums))):\n",
    "            ranks[num] = i\n",
    "\n",
    "        # Now it is a prefix sum problem and we can use binary index tree/ fenwick tree to solve this problem\n",
    "        # The tree will be the count of smaller numbers before the current index when we traverse the nums in reverse order\n",
    "        tree = FenwickTree(len(ranks))\n",
    "        res = []\n",
    "        \n",
    "        # traverse the nums in reverse order\n",
    "        for num in reversed(nums):\n",
    "            res.append(tree.query(ranks[num]+1-1)) # +1 because i starts from 1, -1 because we need the counts of the numbers smaller than current number\n",
    "            tree.update(ranks[num]+1, 1) # update the count\n",
    "\n",
    "\n",
    "        return res[::-1]\n",
    "        \n",
    "\n",
    "\n",
    "class FenwickTree:\n",
    "    def __init__(self, n: int) -> None:\n",
    "        self.sums  = [0]*(n+1)\n",
    "    \n",
    "    def lowbit(self, x:int) -> int:\n",
    "        return x & -x\n",
    "\n",
    "    # i starts from 1\n",
    "    def update(self, i: int, delta: int) -> None:\n",
    "        while(i<len(self.sums)):\n",
    "            self.sums[i] += delta\n",
    "            i += self.lowbit(i)\n",
    "    \n",
    "    # i starts from 1\n",
    "    def query(self, i:int) -> int:\n",
    "        sum = 0\n",
    "        while(i>0):\n",
    "            sum += self.sums[i]\n",
    "            i -= self.lowbit(i)\n",
    "        return sum"
   ]
  },
  {
   "cell_type": "code",
   "execution_count": 9,
   "metadata": {},
   "outputs": [
    {
     "data": {
      "text/plain": [
       "'-0b11'"
      ]
     },
     "execution_count": 9,
     "metadata": {},
     "output_type": "execute_result"
    }
   ],
   "source": [
    "# s = Solution()\n",
    "# s.countSmaller([5,2,6,1])\n",
    "\n",
    "f = FenwickTree(5)\n",
    "bin(-3)"
   ]
  },
  {
   "cell_type": "code",
   "execution_count": null,
   "metadata": {},
   "outputs": [],
   "source": []
  }
 ],
 "metadata": {
  "kernelspec": {
   "display_name": "Python 3",
   "language": "python",
   "name": "python3"
  },
  "language_info": {
   "codemirror_mode": {
    "name": "ipython",
    "version": 3
   },
   "file_extension": ".py",
   "mimetype": "text/x-python",
   "name": "python",
   "nbconvert_exporter": "python",
   "pygments_lexer": "ipython3",
   "version": "3.11.8"
  }
 },
 "nbformat": 4,
 "nbformat_minor": 2
}
