{
 "cells": [
  {
   "cell_type": "code",
   "execution_count": 29,
   "id": "e67044ea",
   "metadata": {},
   "outputs": [
    {
     "name": "stdout",
     "output_type": "stream",
     "text": [
      "i: 0 lo: 0 hi: 6\n",
      "mid: 3 lo: 0 hi: 6\n",
      "mid: 5 lo: 4 hi: 6\n",
      "mid: 4 lo: 4 hi: 5\n",
      "\n",
      "\n",
      "i: 1 lo: 1 hi: 6\n",
      "mid: 3 lo: 1 hi: 6\n",
      "mid: 5 lo: 4 hi: 6\n",
      "\n",
      "\n",
      "i: 2 lo: 2 hi: 6\n",
      "mid: 4 lo: 2 hi: 6\n",
      "mid: 5 lo: 5 hi: 6\n",
      "\n",
      "\n",
      "i: 3 lo: 3 hi: 6\n",
      "mid: 4 lo: 3 hi: 6\n",
      "mid: 5 lo: 5 hi: 6\n",
      "\n",
      "\n",
      "i: 4 lo: 4 hi: 6\n",
      "mid: 5 lo: 4 hi: 6\n",
      "\n",
      "\n",
      "i: 5 lo: 5 hi: 6\n",
      "mid: 5 lo: 5 hi: 6\n",
      "\n",
      "\n",
      "i: 6 lo: 6 hi: 6\n",
      "\n",
      "\n"
     ]
    },
    {
     "data": {
      "text/plain": [
       "0"
      ]
     },
     "execution_count": 29,
     "metadata": {},
     "output_type": "execute_result"
    }
   ],
   "source": [
    "# this code is for 'Subarry sum equals K' but only works when the elements are positive \n",
    "#'Given an array of integers nums and an integer k, return the total number of subarrays \n",
    "# whose sum equals to k.'\n",
    "nums = [28,54,7,-70,22,65,-6]\n",
    "k = 100\n",
    "cnt = 0\n",
    "for i in range(len(nums)):\n",
    "    lo = i\n",
    "    hi = len(nums) - 1\n",
    "    print('i:',  i,'lo:',lo,'hi:', hi)\n",
    "    while lo < hi:\n",
    "        mid = (lo + hi)//2\n",
    "        tot = sum(nums[i:(mid+1)])\n",
    "        print('mid:',mid,'lo:',lo,'hi:', hi)\n",
    "        if tot == k:\n",
    "            cnt +=1\n",
    "            print('tot:',tot,'mid:',mid,'lo:',lo,'hi:', hi)\n",
    "            break\n",
    "        elif tot < k:\n",
    "            lo = mid + 1\n",
    "        else:\n",
    "            hi = mid\n",
    "    if sum(nums[i:(hi+1)]) == k:\n",
    "        cnt += 1\n",
    "    print('\\n')\n",
    "cnt"
   ]
  },
  {
   "cell_type": "code",
   "execution_count": 12,
   "id": "620309dc",
   "metadata": {},
   "outputs": [
    {
     "data": {
      "text/plain": [
       "[8, 9, 9, 9, 0, 0, 0, 1]"
      ]
     },
     "execution_count": 12,
     "metadata": {},
     "output_type": "execute_result"
    }
   ],
   "source": [
    "# Add two number that are stored in two lists in reverse order\n",
    "l1 = [9,9,9,9,9,9,9]\n",
    "l2 = [9,9,9,9]\n",
    "m = max(len(l1), len(l2))\n",
    "n = min(len(l1), len(l2))\n",
    "result = [0]*(m + 1)\n",
    "l2 = l2 + [0]*(m - n)\n",
    "tmp = 0\n",
    "for i in range(m):\n",
    "    result[i] = l1[i] + l2[i] + tmp\n",
    "    if result[i] >= 10: \n",
    "        result[i] -= 10\n",
    "        tmp = 1\n",
    "    else:\n",
    "        tmp = 0\n",
    "if tmp == 1: result[i+1] = tmp\n",
    "else: result.pop()\n",
    "result"
   ]
  },
  {
   "cell_type": "code",
   "execution_count": 28,
   "id": "793dae40",
   "metadata": {},
   "outputs": [
    {
     "data": {
      "text/plain": [
       "29"
      ]
     },
     "execution_count": 28,
     "metadata": {},
     "output_type": "execute_result"
    }
   ],
   "source": [
    "# convert roman numerals to integers\n",
    "s = 'XXIX'\n",
    "result = 0\n",
    "tmp = 'M'\n",
    "dic = {'I':1, 'V':5, 'X':10, 'L':50, 'C':100, 'D':500, 'M':1000}\n",
    "for i in s:\n",
    "    if dic[i] > dic[tmp]:\n",
    "        result += dic[i] - 2*dic[tmp]\n",
    "    else:\n",
    "        result += dic[i]\n",
    "    tmp = i\n",
    "result\n",
    "            "
   ]
  },
  {
   "cell_type": "code",
   "execution_count": 102,
   "id": "5080a25d",
   "metadata": {},
   "outputs": [
    {
     "name": "stdout",
     "output_type": "stream",
     "text": [
      "[1, 3, 2]\n",
      "[1, 3, 2]\n"
     ]
    }
   ],
   "source": [
    "#Next Permutation\n",
    "nums = [1,2,3]\n",
    "max_ = nums[-1]\n",
    "if len(nums) == 1:\n",
    "    print(nums)\n",
    "else:\n",
    "    for i in range(len(nums)-2, -1, -1):\n",
    "        if nums[i]>=max_:\n",
    "            max_ = nums[i]\n",
    "            b = (nums[:i] + nums[i+1:])\n",
    "            b.append(nums[i])\n",
    "            nums[:] = b\n",
    "        else:\n",
    "            for j in range(i+1,len(nums),1):\n",
    "                if nums[i] < nums[j]:\n",
    "                    tmp = nums[i]\n",
    "                    nums[i] = nums[j]\n",
    "                    nums[j] = tmp\n",
    "                    print(nums)\n",
    "                    break\n",
    "            break\n",
    "    print(nums)"
   ]
  },
  {
   "cell_type": "code",
   "execution_count": 18,
   "id": "5c7c572a",
   "metadata": {},
   "outputs": [
    {
     "data": {
      "text/plain": [
       "3"
      ]
     },
     "execution_count": 18,
     "metadata": {},
     "output_type": "execute_result"
    }
   ],
   "source": [
    "# gas station\n",
    "gas = [1,2,3,4,5]\n",
    "cost = [3,4,5,1,2]\n",
    "\n",
    "start = 0\n",
    "gasleft = 0\n",
    "\n",
    "gas_cost = [x[0]-x[1] for x in zip(gas, cost)]*2 # create a list that is twice as long as the input list\n",
    "while start < len(gas):\n",
    "    nxt = 0\n",
    "    for i in range(start, start+len(gas), 1):\n",
    "            gasleft += gas_cost[i]\n",
    "            if gasleft < 0:\n",
    "                gasleft = 0\n",
    "                start = i+1\n",
    "                nxt = 1\n",
    "                break\n",
    "    if nxt == 0:\n",
    "        break\n",
    "start\n",
    "# best solution \n",
    "def canCompleteCircuit(self, gas, cost):\n",
    "    \"\"\"\n",
    "    :type gas: List[int]\n",
    "    :type cost: List[int]\n",
    "    :rtype: int\n",
    "    \"\"\"\n",
    "    start = 0\n",
    "    end = 0\n",
    "    gasleft = 0\n",
    "    length = 1\n",
    "    while length<=len(gas):\n",
    "        gasleft += gas[end] - cost[end]\n",
    "        if gasleft>=0 :\n",
    "            end += 1\n",
    "            length +=1\n",
    "        else:\n",
    "            while length<=len(gas) and gasleft<0:\n",
    "                if start == 0:\n",
    "                    start = len(gas) -1\n",
    "                else:\n",
    "                    start -= 1\n",
    "                gasleft += gas[start] - cost[start]\n",
    "                length += 1\n",
    "            if length>len(gas): \n",
    "                return -1\n",
    "            else:\n",
    "                end += 1\n",
    "                length += 1\n",
    "    return start"
   ]
  },
  {
   "cell_type": "code",
   "execution_count": 38,
   "id": "5b954420",
   "metadata": {},
   "outputs": [
    {
     "data": {
      "text/plain": [
       "'0.(09)'"
      ]
     },
     "execution_count": 38,
     "metadata": {},
     "output_type": "execute_result"
    }
   ],
   "source": [
    "# fraction to recurring decimal\n",
    "def fractionToDecimal(numerator, denominator):\n",
    "    if denominator == 0:\n",
    "        return \"\"\n",
    "    elif numerator == 0:\n",
    "        return \"0\"\n",
    "\n",
    "    result = \"\"\n",
    "    if (numerator<0) ^ (denominator<0):\n",
    "        result += \"-\"\n",
    "    numerator, denominator = abs(numerator), abs(denominator)\n",
    "    \n",
    "    result += str(numerator//denominator)\n",
    "    remainder = numerator % denominator\n",
    "    if remainder == 0:\n",
    "        return result\n",
    "    \n",
    "    result += '.'\n",
    "    remainder_dict = {}\n",
    "    \n",
    "    while remainder != 0 and remainder not in remainder_dict:\n",
    "        remainder_dict[remainder] = len(result)\n",
    "        remainder *= 10\n",
    "        result += str(remainder//denominator)\n",
    "        remainder = remainder % denominator\n",
    "    \n",
    "    if remainder != 0:\n",
    "        result = result[:remainder_dict[remainder]] + \"(\" + result[remainder_dict[remainder]:] +\")\"\n",
    "\n",
    "    return result\n",
    "\n",
    "fractionToDecimal(1, 11)"
   ]
  },
  {
   "cell_type": "code",
   "execution_count": 130,
   "id": "a53eb5ec",
   "metadata": {},
   "outputs": [],
   "source": [
    "# convert numbers to English words\n",
    "class Solution(object):\n",
    "    def __init__(self):\n",
    "        self.first_twenty = [\"\", \"One\", \"Two\",\n",
    "                        \"Three\", \"Four\", \"Five\",\n",
    "                        \"Six\", \"Seven\", \"Eight\",\n",
    "                        \"Nine\", \"Ten\", \"Eleven\",\n",
    "                        \"Twelve\", \"Thirteen\", \"Fourteen\",\n",
    "                        \"Fifteen\", \"Sixteen\", \"Seventeen\",\n",
    "                        \"Eighteen\", \"Nineteen\"]\n",
    "        self.tens = [\"\", \"Twenty\", \"Thirty\", \"Forty\", \"Fifty\",\n",
    "                \"Sixty\", \"Seventy\", \"Eighty\", \"Ninety\"]\n",
    "\n",
    "    def numberToWords(self, num):\n",
    "        \"\"\"\n",
    "        :type num: int\n",
    "        :rtype: str\n",
    "        \"\"\"\n",
    "        if num == 0:\n",
    "            return(\"Zero\")\n",
    "        if num > 2**31 - 1:\n",
    "            print(\"NA\")\n",
    "            return\n",
    "        # Billion\n",
    "        limit = 1000000000\n",
    "        return self.numberToWords2(num, limit)[1:] \n",
    "\n",
    "    def numberToWords2(self, n, limit):\n",
    "        string = \"\"\n",
    "        if n == 0:\n",
    "            return string\n",
    "\n",
    "        sub_n = n//limit\n",
    "        if  sub_n >= 1:\n",
    "            if sub_n >= 100:\n",
    "                hundred = self.first_twenty[sub_n//100]\n",
    "                string += \" \" + hundred + \" Hundred\"\n",
    "            sub_n_tens = sub_n%100\n",
    "            if sub_n_tens == 0:\n",
    "                pass\n",
    "            elif sub_n_tens < 20:\n",
    "                ten = self.first_twenty[sub_n_tens]\n",
    "                string += \" \" + ten\n",
    "            else:\n",
    "                sub_n_single = self.first_twenty[sub_n_tens%10]\n",
    "                if sub_n_single != '':\n",
    "                    ten = self.tens[sub_n_tens//10 - 1] + \" \" + sub_n_single\n",
    "                else:\n",
    "                    ten = self.tens[sub_n_tens//10 - 1]\n",
    "                string += \" \" + ten\n",
    "\n",
    "            if limit == 1000000000:\n",
    "                string += \" Billion\"\n",
    "            elif limit == 1000000:\n",
    "                string += \" Million\"\n",
    "            elif limit == 1000:\n",
    "                string += \" Thousand\"\n",
    "\n",
    "        n %= limit\n",
    "        limit = int(limit/1000)\n",
    "        string += self.numberToWords2(n, limit)\n",
    "        return(string)"
   ]
  },
  {
   "cell_type": "code",
   "execution_count": 52,
   "id": "706811b9",
   "metadata": {},
   "outputs": [],
   "source": [
    "# bad solution\n",
    "class Solution(object):\n",
    "    def increasingTriplet(self, nums):\n",
    "        \"\"\"\n",
    "        :type nums: List[int]\n",
    "        :rtype: bool\n",
    "        \"\"\"\n",
    "        dict = [None]*4\n",
    "        dict[2] = nums[0]\n",
    "        dict[1] = dict[3] = None\n",
    "        leng = len(nums)\n",
    "        \n",
    "        for i in range(1, leng):\n",
    "            if nums[i] <= dict[2]:\n",
    "                dict[2] = nums[i]\n",
    "            else:\n",
    "                dict[3] = nums[i]\n",
    "                j = i\n",
    "                break\n",
    "                \n",
    "        if dict[3] == None:\n",
    "            return False\n",
    "        \n",
    "        if j+1 <= leng-1:\n",
    "            for i in range(j+1, leng):\n",
    "                if nums[i] > dict[3]:\n",
    "                    return True\n",
    "                if dict[2] < nums[i] < dict[3]:\n",
    "                    dict[3] = nums[i]\n",
    "                elif nums[i] == dict[3]:\n",
    "                    pass\n",
    "                \n",
    "                elif dict[1] == None:\n",
    "                    if dict[2] == nums[i]:\n",
    "                        pass\n",
    "                    else:\n",
    "                        dict[1] = nums[i]    \n",
    "                else:\n",
    "                    if dict[1] < nums[i] <= dict[2]:\n",
    "                        dict[2] = dict[1]\n",
    "                        dict[3] = nums[i]\n",
    "                        dict[1] = None\n",
    "                    else:\n",
    "                        dict[1] = nums[i]\n",
    "        \n",
    "        return False\n",
    "    ## good solution\n",
    "    class Solution1(object):\n",
    "        def increasingTriplet(self, nums):\n",
    "            \"\"\"\n",
    "            :type nums: List[int]\n",
    "            :rtype: bool\n",
    "            \"\"\"\n",
    "            first = second = float('inf')\n",
    "            for n in nums:\n",
    "                if n <= first:\n",
    "                    first = n\n",
    "                elif n <= second:\n",
    "                    second = n\n",
    "                else:\n",
    "                    return True\n",
    "            return False"
   ]
  },
  {
   "cell_type": "code",
   "execution_count": 54,
   "id": "1f06ba95",
   "metadata": {},
   "outputs": [
    {
     "data": {
      "text/plain": [
       "True"
      ]
     },
     "execution_count": 54,
     "metadata": {},
     "output_type": "execute_result"
    }
   ],
   "source": [
    "def increasingTriplet(nums):\n",
    "    first = second = float('inf')\n",
    "    for n in nums:\n",
    "        if n <= first:\n",
    "            first = n\n",
    "        elif n <= second:\n",
    "            second = n\n",
    "        else:\n",
    "            return True\n",
    "    return False\n",
    "increasingTriplet([1,2,3,4])"
   ]
  },
  {
   "cell_type": "code",
   "execution_count": 1,
   "id": "956c7d2a",
   "metadata": {},
   "outputs": [],
   "source": [
    "# calculate the least number of units of times\n",
    "# A - - A - - A, for each interval, put in the elements that are currently most \n",
    "tasks = [\"A\",\"A\",\"A\",\"B\",\"B\",\"B\"] \n",
    "n = 2"
   ]
  },
  {
   "cell_type": "code",
   "execution_count": 4,
   "id": "cdc53606",
   "metadata": {},
   "outputs": [
    {
     "data": {
      "text/plain": [
       "{'Tuesday': 2, 'Wednesday': 3, 'Thursday': 4, 'Friday': 5}"
      ]
     },
     "execution_count": 4,
     "metadata": {},
     "output_type": "execute_result"
    }
   ],
   "source": [
    "dict = {'Monday':1, \"Tuesday\":2, \"Wednesday\":3, \"Thursday\":4, \"Friday\":5}\n",
    "del(dict['Monday'])\n",
    "dict"
   ]
  },
  {
   "cell_type": "code",
   "execution_count": 14,
   "id": "5a55d108",
   "metadata": {},
   "outputs": [],
   "source": [
    "b = [1,2]\n",
    "c = []\n",
    "for num in b: c.append(b.count(num))"
   ]
  },
  {
   "cell_type": "code",
   "execution_count": 16,
   "id": "34122d55",
   "metadata": {},
   "outputs": [
    {
     "data": {
      "text/plain": [
       "1"
      ]
     },
     "execution_count": 16,
     "metadata": {},
     "output_type": "execute_result"
    }
   ],
   "source": [
    "max(c)"
   ]
  },
  {
   "cell_type": "code",
   "execution_count": 7,
   "id": "7257cb47",
   "metadata": {},
   "outputs": [
    {
     "name": "stdout",
     "output_type": "stream",
     "text": [
      "{'apple': 1} {'apple': 1}\n",
      "[0] [0]\n",
      "0 2\n"
     ]
    }
   ],
   "source": [
    "from typing import List\n",
    "class TestDict:\n",
    "    def testIfDictIsChanged(self, mydict:dict, mylist: List, myint:int):\n",
    "        mydict1 = mydict\n",
    "        mydict1['apple'] = 1\n",
    "        print(mydict1, mydict)\n",
    "\n",
    "        mylist1 = mylist\n",
    "        mylist1.append(0)\n",
    "        print(mylist1, mylist)\n",
    "        \n",
    "        myint1 = myint\n",
    "        myint1 = 0\n",
    "        print(myint1, myint)\n",
    "        return\n",
    "\n",
    "t = TestDict()\n",
    "t.testIfDictIsChanged({},[],2)"
   ]
  },
  {
   "cell_type": "code",
   "execution_count": null,
   "id": "51379988",
   "metadata": {},
   "outputs": [],
   "source": []
  }
 ],
 "metadata": {
  "kernelspec": {
   "display_name": "Python 3 (ipykernel)",
   "language": "python",
   "name": "python3"
  },
  "language_info": {
   "codemirror_mode": {
    "name": "ipython",
    "version": 3
   },
   "file_extension": ".py",
   "mimetype": "text/x-python",
   "name": "python",
   "nbconvert_exporter": "python",
   "pygments_lexer": "ipython3",
   "version": "3.11.7"
  }
 },
 "nbformat": 4,
 "nbformat_minor": 5
}
