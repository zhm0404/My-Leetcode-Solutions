{
 "cells": [
  {
   "cell_type": "markdown",
   "metadata": {},
   "source": [
    "Given n pairs of parentheses, write a function to generate all combinations of well-formed parentheses.\n",
    "Example 1:\n",
    "\n",
    "Input: n = 3\n",
    "Output: [\"((()))\",\"(()())\",\"(())()\",\"()(())\",\"()()()\"]\n",
    "Example 2:\n",
    "\n",
    "Input: n = 1\n",
    "Output: [\"()\"]\n",
    " \n",
    "\n",
    "Constraints:\n",
    "\n",
    "1 <= n <= 8"
   ]
  },
  {
   "cell_type": "code",
   "execution_count": 24,
   "metadata": {},
   "outputs": [],
   "source": [
    "from typing import List\n",
    "class Solution:\n",
    "    def generateParenthesis(self, n: int) -> List[str]:\n",
    "        self.res = []\n",
    "        self.leftcnt = 0\n",
    "        self.rightcnt = 0\n",
    "        self.n = n\n",
    "        self._findNextOne(\"\", 0)\n",
    "        return self.res\n",
    "\n",
    "    def _findNextOne(self, word: str, i:int):\n",
    "        if i == 2*self.n:\n",
    "            self.res.append(word)\n",
    "            return\n",
    "\n",
    "        if self.leftcnt == self.rightcnt:\n",
    "            word = self._addLeft(word)\n",
    "            self._findNextOne(word, i+1)\n",
    "\n",
    "        elif self.leftcnt == self.n:\n",
    "            word = self._addRight(word)\n",
    "            self._findNextOne(word, i+1)\n",
    "        else:\n",
    "            wordtmp = word\n",
    "            leftcnttmp = self.leftcnt\n",
    "            rightcnttmp = self.rightcnt\n",
    "            word = self._addLeft(word)\n",
    "            self._findNextOne(word, i+1)\n",
    "\n",
    "            word = wordtmp\n",
    "            self.leftcnt = leftcnttmp\n",
    "            self.rightcnt = rightcnttmp\n",
    "            word = self._addRight(word)\n",
    "            self._findNextOne(word, i+1)\n",
    "        return \n",
    "\n",
    "    def _addLeft(self, word: str):\n",
    "        word += \"(\"\n",
    "        self.leftcnt +=1\n",
    "        return word\n",
    "    \n",
    "    def _addRight(self, word: str):\n",
    "        word += \")\"\n",
    "        self.rightcnt +=1\n",
    "        return word"
   ]
  },
  {
   "cell_type": "code",
   "execution_count": 25,
   "metadata": {},
   "outputs": [
    {
     "name": "stdout",
     "output_type": "stream",
     "text": [
      " 0 0\n",
      "( 1 0\n",
      "(( 2 0\n",
      "((( 3 0\n",
      "((() 3 1\n",
      "((()) 3 2\n",
      "((())) 3 3\n",
      "(() 2 1\n",
      "(()( 3 1\n",
      "(()() 3 2\n",
      "(()()) 3 3\n",
      "(()) 2 2\n",
      "(())( 3 2\n",
      "(())() 3 3\n",
      "() 1 1\n",
      "()( 2 1\n",
      "()(( 3 1\n",
      "()(() 3 2\n",
      "()(()) 3 3\n",
      "()() 2 2\n",
      "()()( 3 2\n",
      "()()() 3 3\n"
     ]
    },
    {
     "data": {
      "text/plain": [
       "['((()))', '(()())', '(())()', '()(())', '()()()']"
      ]
     },
     "execution_count": 25,
     "metadata": {},
     "output_type": "execute_result"
    }
   ],
   "source": [
    "s = Solution()\n",
    "s.generateParenthesis(3)"
   ]
  },
  {
   "cell_type": "code",
   "execution_count": null,
   "metadata": {},
   "outputs": [],
   "source": []
  }
 ],
 "metadata": {
  "kernelspec": {
   "display_name": "Python 3",
   "language": "python",
   "name": "python3"
  },
  "language_info": {
   "codemirror_mode": {
    "name": "ipython",
    "version": 3
   },
   "file_extension": ".py",
   "mimetype": "text/x-python",
   "name": "python",
   "nbconvert_exporter": "python",
   "pygments_lexer": "ipython3",
   "version": "3.11.7"
  }
 },
 "nbformat": 4,
 "nbformat_minor": 2
}
