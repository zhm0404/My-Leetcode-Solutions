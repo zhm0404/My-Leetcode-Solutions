{
 "cells": [
  {
   "cell_type": "code",
   "execution_count": null,
   "id": "a748e863",
   "metadata": {},
   "outputs": [],
   "source": [
    "#Given an array of integers nums and an integer k, return the total number of subarrays whose sum equals to\n",
    "#k.\n",
    "#A subarray is a contiguous non-empty sequence of elements within an array.\n",
    "class Solution(object):\n",
    "    def subarraySum(self, nums, k):\n",
    "        \"\"\"\n",
    "        :type nums: List[int]\n",
    "        :type k: int\n",
    "        :rtype: int\n",
    "        \"\"\"\n",
    "        dic = {0:1}\n",
    "        cnt = 0\n",
    "        prefix_sum = 0\n",
    "        for num in nums:\n",
    "            prefix_sum = prefix_sum + num\n",
    "            if prefix_sum - k in dic:\n",
    "                cnt += dic[prefix_sum - k]\n",
    "            if prefix_sum not in dic:\n",
    "                dic[prefix_sum] = 1\n",
    "            elif prefix_sum in dic:\n",
    "                dic[prefix_sum] += 1\n",
    "        return cnt\n"
   ]
  }
 ],
 "metadata": {
  "kernelspec": {
   "display_name": "Python 3 (ipykernel)",
   "language": "python",
   "name": "python3"
  },
  "language_info": {
   "codemirror_mode": {
    "name": "ipython",
    "version": 3
   },
   "file_extension": ".py",
   "mimetype": "text/x-python",
   "name": "python",
   "nbconvert_exporter": "python",
   "pygments_lexer": "ipython3",
   "version": "3.10.9"
  }
 },
 "nbformat": 4,
 "nbformat_minor": 5
}
