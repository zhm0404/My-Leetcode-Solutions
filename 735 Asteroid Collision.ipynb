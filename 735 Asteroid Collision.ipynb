{
 "cells": [
  {
   "cell_type": "markdown",
   "metadata": {},
   "source": [
    "We are given an array asteroids of integers representing asteroids in a row.\n",
    "\n",
    "For each asteroid, the absolute value represents its size, and the sign represents its direction \n",
    "(positive meaning right, negative meaning left). Each asteroid moves at the same speed.\n",
    "\n",
    "Find out the state of the asteroids after all collisions. If two asteroids meet, the smaller one will explode. \n",
    "If both are the same size, both will explode. Two asteroids moving in the same direction will never meet.\n",
    "\n",
    "Example 1:\n",
    "\n",
    "Input: asteroids = [5,10,-5]\n",
    "Output: [5,10]\n",
    "Explanation: The 10 and -5 collide resulting in 10. The 5 and 10 never collide."
   ]
  },
  {
   "cell_type": "code",
   "execution_count": 3,
   "metadata": {},
   "outputs": [],
   "source": [
    "class Solution(object):\n",
    "    def asteroidCollision(self, asteroids):\n",
    "        stack = []\n",
    "        for v in asteroids:\n",
    "            new = v\n",
    "            top = None\n",
    "            while(stack and new<0 and stack[-1]>0):\n",
    "                top = stack.pop()\n",
    "                if (top + new) * new < 0: # keep the larger asteriod\n",
    "                    new = top\n",
    "                elif top + new == 0:\n",
    "                    break # go to next iteration of the  for loop\n",
    "            if not top or top + new !=0: # append new and go to next iteration if the stack is empty or if \"break\"\n",
    "                stack.append(new)\n",
    "        return stack\n"
   ]
  },
  {
   "cell_type": "code",
   "execution_count": 4,
   "metadata": {},
   "outputs": [
    {
     "data": {
      "text/plain": [
       "[]"
      ]
     },
     "execution_count": 4,
     "metadata": {},
     "output_type": "execute_result"
    }
   ],
   "source": [
    "asteroids =[-2,-1,1,2]\n",
    "s = Solution()\n",
    "s.asteroidCollision(asteroids)"
   ]
  }
 ],
 "metadata": {
  "kernelspec": {
   "display_name": "Python 3",
   "language": "python",
   "name": "python3"
  },
  "language_info": {
   "codemirror_mode": {
    "name": "ipython",
    "version": 3
   },
   "file_extension": ".py",
   "mimetype": "text/x-python",
   "name": "python",
   "nbconvert_exporter": "python",
   "pygments_lexer": "ipython3",
   "version": "3.11.7"
  }
 },
 "nbformat": 4,
 "nbformat_minor": 2
}
