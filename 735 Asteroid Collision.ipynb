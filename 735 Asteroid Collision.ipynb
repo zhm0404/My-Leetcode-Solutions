{
 "cells": [
  {
   "cell_type": "code",
   "execution_count": null,
   "metadata": {},
   "outputs": [],
   "source": [
    "# We are given an array asteroids of integers representing asteroids in a row.\n",
    "\n",
    "# For each asteroid, the absolute value represents its size, and the sign represents its direction \n",
    "# (positive meaning right, negative meaning left). Each asteroid moves at the same speed.\n",
    "\n",
    "# Find out the state of the asteroids after all collisions. If two asteroids meet, the smaller one will explode. \n",
    "# If both are the same size, both will explode. Two asteroids moving in the same direction will never meet.\n",
    "\n",
    "# Example 1:\n",
    "\n",
    "# Input: asteroids = [5,10,-5]\n",
    "# Output: [5,10]\n",
    "# Explanation: The 10 and -5 collide resulting in 10. The 5 and 10 never collide."
   ]
  }
 ],
 "metadata": {
  "language_info": {
   "name": "python"
  }
 },
 "nbformat": 4,
 "nbformat_minor": 2
}
