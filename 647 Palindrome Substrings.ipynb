{
 "cells": [
  {
   "cell_type": "markdown",
   "metadata": {},
   "source": [
    "Given a string s, return the number of palindromic substrings in it.\n",
    "\n",
    "A string is a palindrome when it reads the same backward as forward.\n",
    "\n",
    "A substring is a contiguous sequence of characters within the string.\n",
    "\n",
    " \n",
    "\n",
    "Example 1:\n",
    "\n",
    "Input: s = \"abc\"\n",
    "Output: 3\n",
    "Explanation: Three palindromic strings: \"a\", \"b\", \"c\".\n",
    "Example 2:\n",
    "\n",
    "Input: s = \"aaa\"\n",
    "Output: 6\n",
    "Explanation: Six palindromic strings: \"a\", \"a\", \"a\", \"aa\", \"aa\", \"aaa\".\n",
    " \n",
    "\n",
    "Constraints:\n",
    "\n",
    "1 <= s.length <= 1000\n",
    "s consists of lowercase English letter"
   ]
  },
  {
   "cell_type": "code",
   "execution_count": 6,
   "metadata": {},
   "outputs": [
    {
     "data": {
      "text/plain": [
       "5"
      ]
     },
     "execution_count": 6,
     "metadata": {},
     "output_type": "execute_result"
    }
   ],
   "source": [
    "class Solution:\n",
    "    def countSubstrings(self, s: str) -> int:\n",
    "        if len(s) <= 1:\n",
    "            return len(s) \n",
    "        \n",
    "        cnt = len(s)\n",
    "        for left in range(0,len(s)-1):\n",
    "            right = left + 1\n",
    "            while left>=0 and right<=len(s)-1:\n",
    "                if s[left] == s[right]:\n",
    "                    cnt += 1\n",
    "                    left -= 1\n",
    "                    right += 1\n",
    "                else:\n",
    "                    break\n",
    "\n",
    "        \n",
    "        for mid in range(1,len(s)-1):\n",
    "            width = 1\n",
    "            while mid - width >= 0 and mid + width <= len(s) - 1:\n",
    "                if s[mid - width] == s[mid + width]:\n",
    "                    cnt += 1\n",
    "                    width += 1\n",
    "                else: \n",
    "                    break     \n",
    "        \n",
    "        return cnt\n",
    "\n",
    "s = Solution()\n",
    "s.countSubstrings(\"abcb\")"
   ]
  },
  {
   "cell_type": "code",
   "execution_count": null,
   "metadata": {},
   "outputs": [],
   "source": []
  }
 ],
 "metadata": {
  "kernelspec": {
   "display_name": "Python 3",
   "language": "python",
   "name": "python3"
  },
  "language_info": {
   "codemirror_mode": {
    "name": "ipython",
    "version": 3
   },
   "file_extension": ".py",
   "mimetype": "text/x-python",
   "name": "python",
   "nbconvert_exporter": "python",
   "pygments_lexer": "ipython3",
   "version": "3.11.7"
  }
 },
 "nbformat": 4,
 "nbformat_minor": 2
}
