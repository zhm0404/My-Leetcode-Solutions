{
 "cells": [
  {
   "cell_type": "code",
   "execution_count": null,
   "id": "922fa55c",
   "metadata": {},
   "outputs": [],
   "source": [
    "# Given an integer array nums and an integer k, split nums into k non-empty subarrays such that the largest \n",
    "# sum of any subarray is minimized.\n",
    "# Return the minimized largest sum of the split.\n",
    "# A subarray is a contiguous part of the array.\n",
    "class Solution(object):\n",
    "    def splitArray(self, nums, k):\n",
    "        \"\"\"\n",
    "        :type nums: List[int]\n",
    "        :type k: int\n",
    "        :rtype: int\n",
    "        \"\"\"\n",
    "        lo, hi = max(nums), sum(nums)\n",
    "        if k == len(nums):\n",
    "            return lo\n",
    "        elif k == 1:\n",
    "            return sum(nums)\n",
    "        else:\n",
    "            while lo < hi:\n",
    "                mid = (lo + hi)//2\n",
    "                tot = 0\n",
    "                cnt = 0\n",
    "                for num in nums:\n",
    "                    if tot + num <= mid:\n",
    "                        tot += num\n",
    "                    else:\n",
    "                        cnt += 1 \n",
    "                        tot = num\n",
    "                cnt += 1\n",
    "                if cnt <= k:\n",
    "                    hi = mid\n",
    "                else:\n",
    "                    lo = mid + 1\n",
    "        return hi"
   ]
  }
 ],
 "metadata": {
  "kernelspec": {
   "display_name": "Python 3 (ipykernel)",
   "language": "python",
   "name": "python3"
  },
  "language_info": {
   "codemirror_mode": {
    "name": "ipython",
    "version": 3
   },
   "file_extension": ".py",
   "mimetype": "text/x-python",
   "name": "python",
   "nbconvert_exporter": "python",
   "pygments_lexer": "ipython3",
   "version": "3.10.9"
  }
 },
 "nbformat": 4,
 "nbformat_minor": 5
}
