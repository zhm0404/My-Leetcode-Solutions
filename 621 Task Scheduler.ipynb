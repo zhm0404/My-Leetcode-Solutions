{
 "cells": [
  {
   "cell_type": "code",
   "execution_count": 121,
   "id": "b691be6f",
   "metadata": {},
   "outputs": [],
   "source": [
    "# Given a characters array tasks, representing the tasks a CPU needs to do, \n",
    "# where each letter represents a different task. Tasks could be done in any order. Each task is done \n",
    "# in one unit of time. For each unit of time, the CPU could complete either one task or just be idle.\n",
    "\n",
    "# However, there is a non-negative integer n that represents the cooldown period between two same tasks \n",
    "# (the same letter in the array), that is that there must be at least n units of time between any two same\n",
    "# tasks.\n",
    "\n",
    "# Return the least number of units of times that the CPU will take to finish all the given tasks.\n",
    "\n",
    "class Solution(object):\n",
    "    def leastInterval(self, tasks, n):\n",
    "        \"\"\"\n",
    "        :type tasks: List[str]\n",
    "        :type n: int\n",
    "        :rtype: int\n",
    "        \"\"\"\n",
    "        all = {} # to save all tasks and their occurrence counts\n",
    "        for num in tasks:\n",
    "            if num not in all:\n",
    "                all[num] = 1\n",
    "            else:\n",
    "                all[num] += 1\n",
    "        len = sum(all.values())\n",
    "        max_key = max(all, key = all.get)\n",
    "        max_value = all[max_key]\n",
    "        idle = (max_value-1)*n\n",
    "        for key in all:\n",
    "            if key != max_key:\n",
    "                idle -= min(all[key],max_value-1)\n",
    "        return len if idle < 0 else idle + len\n",
    "        \n",
    "            "
   ]
  },
  {
   "cell_type": "code",
   "execution_count": 122,
   "id": "efe77c22",
   "metadata": {},
   "outputs": [
    {
     "name": "stdout",
     "output_type": "stream",
     "text": [
      "A 10\n",
      "9\n",
      "8\n",
      "7\n",
      "6\n",
      "5\n",
      "4\n"
     ]
    },
    {
     "data": {
      "text/plain": [
       "16"
      ]
     },
     "execution_count": 122,
     "metadata": {},
     "output_type": "execute_result"
    }
   ],
   "source": [
    "s = Solution()\n",
    "s.leastInterval([\"A\",\"A\",\"A\",\"A\",\"A\",\"A\",\"B\",\"C\",\"D\",\"E\",\"F\",\"G\"]\n",
    ",2)\n"
   ]
  },
  {
   "cell_type": "code",
   "execution_count": 123,
   "id": "8ed7f372",
   "metadata": {},
   "outputs": [
    {
     "data": {
      "text/plain": [
       "'b'"
      ]
     },
     "execution_count": 123,
     "metadata": {},
     "output_type": "execute_result"
    }
   ],
   "source": [
    "dict = {'a':3,'b':3}\n",
    "sum(dict.values())\n",
    "max(dict)"
   ]
  },
  {
   "cell_type": "code",
   "execution_count": null,
   "id": "d88ce46b",
   "metadata": {},
   "outputs": [],
   "source": []
  }
 ],
 "metadata": {
  "kernelspec": {
   "display_name": "Python 3 (ipykernel)",
   "language": "python",
   "name": "python3"
  },
  "language_info": {
   "codemirror_mode": {
    "name": "ipython",
    "version": 3
   },
   "file_extension": ".py",
   "mimetype": "text/x-python",
   "name": "python",
   "nbconvert_exporter": "python",
   "pygments_lexer": "ipython3",
   "version": "3.11.6"
  }
 },
 "nbformat": 4,
 "nbformat_minor": 5
}
