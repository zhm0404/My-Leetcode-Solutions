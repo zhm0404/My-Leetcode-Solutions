{
 "cells": [
  {
   "cell_type": "code",
   "execution_count": null,
   "id": "b691be6f",
   "metadata": {},
   "outputs": [],
   "source": [
    "# Given a characters array tasks, representing the tasks a CPU needs to do, \n",
    "# where each letter represents a different task. Tasks could be done in any order. Each task is done \n",
    "# in one unit of time. For each unit of time, the CPU could complete either one task or just be idle.\n",
    "\n",
    "# However, there is a non-negative integer n that represents the cooldown period between two same tasks \n",
    "# (the same letter in the array), that is that there must be at least n units of time between any two same\n",
    "# tasks.\n",
    "\n",
    "# Return the least number of units of times that the CPU will take to finish all the given tasks.\n",
    "\n",
    "class Solution(object):\n",
    "    def leastInterval(self, tasks, n):\n",
    "        \"\"\"\n",
    "        :type tasks: List[str]\n",
    "        :type n: int\n",
    "        :rtype: int\n",
    "        \"\"\"\n",
    "         "
   ]
  }
 ],
 "metadata": {
  "kernelspec": {
   "display_name": "Python 3 (ipykernel)",
   "language": "python",
   "name": "python3"
  },
  "language_info": {
   "codemirror_mode": {
    "name": "ipython",
    "version": 3
   },
   "file_extension": ".py",
   "mimetype": "text/x-python",
   "name": "python",
   "nbconvert_exporter": "python",
   "pygments_lexer": "ipython3",
   "version": "3.10.9"
  }
 },
 "nbformat": 4,
 "nbformat_minor": 5
}
