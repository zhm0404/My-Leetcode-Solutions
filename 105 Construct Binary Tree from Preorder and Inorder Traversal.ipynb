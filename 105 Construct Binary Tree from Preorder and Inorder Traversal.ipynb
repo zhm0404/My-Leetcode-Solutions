{
 "cells": [
  {
   "cell_type": "markdown",
   "metadata": {},
   "source": [
    "Given two integer arrays preorder and inorder where preorder is the preorder traversal of a binary tree and inorder is the inorder traversal of the same tree, construct and return the binary tree."
   ]
  },
  {
   "cell_type": "code",
   "execution_count": null,
   "metadata": {},
   "outputs": [],
   "source": [
    "# Definition for a binary tree node.\n",
    "class TreeNode:\n",
    "     def __init__(self, val=0, left=None, right=None):\n",
    "        self.val = val\n",
    "        self.left = left\n",
    "        self.right = right\n",
    "class Solution:\n",
    "    def buildTree(self, preorder: List[int], inorder: List[int]) -> Optional[TreeNode]:\n",
    "        if not preorder or not inorder:\n",
    "            return None\n",
    "        root=TreeNode(preorder[0])\n",
    "        index=inorder.index(preorder[0])\n",
    "        root.left=self.buildTree(preorder[1:index+1],inorder[:index])\n",
    "        root.right=self.buildTree(preorder[index+1:],inorder[index+1:])\n",
    "        return root"
   ]
  },
  {
   "cell_type": "code",
   "execution_count": 3,
   "metadata": {},
   "outputs": [
    {
     "name": "stdout",
     "output_type": "stream",
     "text": [
      "[2, 6, 1] [3]\n",
      "[6] [1]\n"
     ]
    },
    {
     "ename": "ValueError",
     "evalue": "6 is not in list",
     "output_type": "error",
     "traceback": [
      "\u001b[1;31m---------------------------------------------------------------------------\u001b[0m",
      "\u001b[1;31mValueError\u001b[0m                                Traceback (most recent call last)",
      "Cell \u001b[1;32mIn[3], line 31\u001b[0m\n\u001b[0;32m     29\u001b[0m inorder \u001b[38;5;241m=\u001b[39m [\u001b[38;5;241m1\u001b[39m,\u001b[38;5;241m2\u001b[39m,\u001b[38;5;241m3\u001b[39m,\u001b[38;5;241m4\u001b[39m,\u001b[38;5;241m6\u001b[39m]\n\u001b[0;32m     30\u001b[0m s \u001b[38;5;241m=\u001b[39m Solution()\n\u001b[1;32m---> 31\u001b[0m \u001b[43ms\u001b[49m\u001b[38;5;241;43m.\u001b[39;49m\u001b[43mbuildTree\u001b[49m\u001b[43m(\u001b[49m\u001b[43mpreorder\u001b[49m\u001b[43m,\u001b[49m\u001b[43m \u001b[49m\u001b[43minorder\u001b[49m\u001b[43m)\u001b[49m\n",
      "Cell \u001b[1;32mIn[3], line 15\u001b[0m, in \u001b[0;36mSolution.buildTree\u001b[1;34m(self, preorder, inorder)\u001b[0m\n\u001b[0;32m     13\u001b[0m index\u001b[38;5;241m=\u001b[39minorder\u001b[38;5;241m.\u001b[39mindex(preorder[\u001b[38;5;241m0\u001b[39m])\n\u001b[0;32m     14\u001b[0m (\u001b[38;5;28mprint\u001b[39m(preorder[\u001b[38;5;241m1\u001b[39m:index\u001b[38;5;241m+\u001b[39m\u001b[38;5;241m1\u001b[39m], preorder[index\u001b[38;5;241m+\u001b[39m\u001b[38;5;241m1\u001b[39m:]))\n\u001b[1;32m---> 15\u001b[0m root\u001b[38;5;241m.\u001b[39mleft\u001b[38;5;241m=\u001b[39m\u001b[38;5;28;43mself\u001b[39;49m\u001b[38;5;241;43m.\u001b[39;49m\u001b[43mbuildTree\u001b[49m\u001b[43m(\u001b[49m\u001b[43mpreorder\u001b[49m\u001b[43m[\u001b[49m\u001b[38;5;241;43m1\u001b[39;49m\u001b[43m:\u001b[49m\u001b[43mindex\u001b[49m\u001b[38;5;241;43m+\u001b[39;49m\u001b[38;5;241;43m1\u001b[39;49m\u001b[43m]\u001b[49m\u001b[43m,\u001b[49m\u001b[43minorder\u001b[49m\u001b[43m[\u001b[49m\u001b[43m:\u001b[49m\u001b[43mindex\u001b[49m\u001b[43m]\u001b[49m\u001b[43m)\u001b[49m\n\u001b[0;32m     16\u001b[0m root\u001b[38;5;241m.\u001b[39mright\u001b[38;5;241m=\u001b[39m\u001b[38;5;28mself\u001b[39m\u001b[38;5;241m.\u001b[39mbuildTree(preorder[index\u001b[38;5;241m+\u001b[39m\u001b[38;5;241m1\u001b[39m:],inorder[index\u001b[38;5;241m+\u001b[39m\u001b[38;5;241m1\u001b[39m:])\n\u001b[0;32m     17\u001b[0m \u001b[38;5;28;01mreturn\u001b[39;00m root\n",
      "Cell \u001b[1;32mIn[3], line 15\u001b[0m, in \u001b[0;36mSolution.buildTree\u001b[1;34m(self, preorder, inorder)\u001b[0m\n\u001b[0;32m     13\u001b[0m index\u001b[38;5;241m=\u001b[39minorder\u001b[38;5;241m.\u001b[39mindex(preorder[\u001b[38;5;241m0\u001b[39m])\n\u001b[0;32m     14\u001b[0m (\u001b[38;5;28mprint\u001b[39m(preorder[\u001b[38;5;241m1\u001b[39m:index\u001b[38;5;241m+\u001b[39m\u001b[38;5;241m1\u001b[39m], preorder[index\u001b[38;5;241m+\u001b[39m\u001b[38;5;241m1\u001b[39m:]))\n\u001b[1;32m---> 15\u001b[0m root\u001b[38;5;241m.\u001b[39mleft\u001b[38;5;241m=\u001b[39m\u001b[38;5;28;43mself\u001b[39;49m\u001b[38;5;241;43m.\u001b[39;49m\u001b[43mbuildTree\u001b[49m\u001b[43m(\u001b[49m\u001b[43mpreorder\u001b[49m\u001b[43m[\u001b[49m\u001b[38;5;241;43m1\u001b[39;49m\u001b[43m:\u001b[49m\u001b[43mindex\u001b[49m\u001b[38;5;241;43m+\u001b[39;49m\u001b[38;5;241;43m1\u001b[39;49m\u001b[43m]\u001b[49m\u001b[43m,\u001b[49m\u001b[43minorder\u001b[49m\u001b[43m[\u001b[49m\u001b[43m:\u001b[49m\u001b[43mindex\u001b[49m\u001b[43m]\u001b[49m\u001b[43m)\u001b[49m\n\u001b[0;32m     16\u001b[0m root\u001b[38;5;241m.\u001b[39mright\u001b[38;5;241m=\u001b[39m\u001b[38;5;28mself\u001b[39m\u001b[38;5;241m.\u001b[39mbuildTree(preorder[index\u001b[38;5;241m+\u001b[39m\u001b[38;5;241m1\u001b[39m:],inorder[index\u001b[38;5;241m+\u001b[39m\u001b[38;5;241m1\u001b[39m:])\n\u001b[0;32m     17\u001b[0m \u001b[38;5;28;01mreturn\u001b[39;00m root\n",
      "Cell \u001b[1;32mIn[3], line 13\u001b[0m, in \u001b[0;36mSolution.buildTree\u001b[1;34m(self, preorder, inorder)\u001b[0m\n\u001b[0;32m     11\u001b[0m     \u001b[38;5;28;01mreturn\u001b[39;00m \u001b[38;5;28;01mNone\u001b[39;00m\n\u001b[0;32m     12\u001b[0m root\u001b[38;5;241m=\u001b[39mTreeNode(preorder[\u001b[38;5;241m0\u001b[39m])\n\u001b[1;32m---> 13\u001b[0m index\u001b[38;5;241m=\u001b[39m\u001b[43minorder\u001b[49m\u001b[38;5;241;43m.\u001b[39;49m\u001b[43mindex\u001b[49m\u001b[43m(\u001b[49m\u001b[43mpreorder\u001b[49m\u001b[43m[\u001b[49m\u001b[38;5;241;43m0\u001b[39;49m\u001b[43m]\u001b[49m\u001b[43m)\u001b[49m\n\u001b[0;32m     14\u001b[0m (\u001b[38;5;28mprint\u001b[39m(preorder[\u001b[38;5;241m1\u001b[39m:index\u001b[38;5;241m+\u001b[39m\u001b[38;5;241m1\u001b[39m], preorder[index\u001b[38;5;241m+\u001b[39m\u001b[38;5;241m1\u001b[39m:]))\n\u001b[0;32m     15\u001b[0m root\u001b[38;5;241m.\u001b[39mleft\u001b[38;5;241m=\u001b[39m\u001b[38;5;28mself\u001b[39m\u001b[38;5;241m.\u001b[39mbuildTree(preorder[\u001b[38;5;241m1\u001b[39m:index\u001b[38;5;241m+\u001b[39m\u001b[38;5;241m1\u001b[39m],inorder[:index])\n",
      "\u001b[1;31mValueError\u001b[0m: 6 is not in list"
     ]
    }
   ],
   "source": [
    "# Definition for a binary tree node.\n",
    "from typing import List, Optional\n",
    "\n",
    "class TreeNode:\n",
    "    def __init__(self, val=0, left=None, right=None):\n",
    "        self.val = val\n",
    "        self.left = left\n",
    "        self.right = right\n",
    "class Solution:\n",
    "    def buildTree(self, preorder: List[int], inorder: List[int]) -> Optional[TreeNode]:\n",
    "        if not preorder or not inorder:\n",
    "            return None\n",
    "        root=TreeNode(preorder[0])\n",
    "        index=inorder.index(preorder[0])\n",
    "        (print(preorder[1:index+1], preorder[index+1:]))\n",
    "        root.left=self.buildTree(preorder[1:index+1],inorder[:index])\n",
    "        root.right=self.buildTree(preorder[index+1:],inorder[index+1:])\n",
    "        return root\n",
    "\n"
   ]
  },
  {
   "cell_type": "code",
   "execution_count": null,
   "metadata": {},
   "outputs": [],
   "source": []
  }
 ],
 "metadata": {
  "kernelspec": {
   "display_name": "Python 3",
   "language": "python",
   "name": "python3"
  },
  "language_info": {
   "codemirror_mode": {
    "name": "ipython",
    "version": 3
   },
   "file_extension": ".py",
   "mimetype": "text/x-python",
   "name": "python",
   "nbconvert_exporter": "python",
   "pygments_lexer": "ipython3",
   "version": "3.11.8"
  }
 },
 "nbformat": 4,
 "nbformat_minor": 2
}
