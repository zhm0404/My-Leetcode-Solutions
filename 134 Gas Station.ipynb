{
 "cells": [
  {
   "cell_type": "code",
   "execution_count": null,
   "id": "a01a98e1",
   "metadata": {},
   "outputs": [],
   "source": [
    "# There are n gas stations along a circular route, where the amount of gas at the ith station is gas[i].\n",
    "\n",
    "# You have a car with an unlimited gas tank and it costs cost[i] of gas to travel from the ith station to \n",
    "# its next (i + 1)th station. You begin the journey with an empty tank at one of the gas stations.\n",
    "\n",
    "# Given two integer arrays gas and cost, return the starting gas station's \n",
    "# index if you can travel around the circuit once in the clockwise direction, otherwise return -1. \n",
    "# If there exists a solution, it is guaranteed to be unique\n",
    "class Solution(object):\n",
    "    def canCompleteCircuit(self, gas, cost):\n",
    "        \"\"\"\n",
    "        :type gas: List[int]\n",
    "        :type cost: List[int]\n",
    "        :rtype: int\n",
    "        \"\"\"\n",
    "        start = 0\n",
    "        end = 0\n",
    "        gasleft = 0\n",
    "        length = 1\n",
    "        while length<=len(gas):\n",
    "            gasleft += gas[end] - cost[end]\n",
    "            if gasleft>=0 :\n",
    "                end += 1\n",
    "                length +=1\n",
    "            else:\n",
    "                while length<=len(gas) and gasleft<0:\n",
    "                    if start == 0:\n",
    "                        start = len(gas) -1\n",
    "                    else:\n",
    "                        start -= 1\n",
    "                    gasleft += gas[start] - cost[start]\n",
    "                    length += 1\n",
    "                if length>len(gas): \n",
    "                    return -1\n",
    "                else:\n",
    "                    end += 1\n",
    "                    length += 1\n",
    "        return start"
   ]
  }
 ],
 "metadata": {
  "kernelspec": {
   "display_name": "Python 3 (ipykernel)",
   "language": "python",
   "name": "python3"
  },
  "language_info": {
   "codemirror_mode": {
    "name": "ipython",
    "version": 3
   },
   "file_extension": ".py",
   "mimetype": "text/x-python",
   "name": "python",
   "nbconvert_exporter": "python",
   "pygments_lexer": "ipython3",
   "version": "3.10.9"
  }
 },
 "nbformat": 4,
 "nbformat_minor": 5
}
