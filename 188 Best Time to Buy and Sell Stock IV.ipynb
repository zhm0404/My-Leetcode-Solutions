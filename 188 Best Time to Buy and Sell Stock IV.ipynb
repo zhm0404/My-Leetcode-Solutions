{
 "cells": [
  {
   "cell_type": "markdown",
   "metadata": {},
   "source": [
    "You are given an integer array prices where prices[i] is the price of a given stock on the ith day, and an integer k.\n",
    "\n",
    "Find the maximum profit you can achieve. You may complete at most k transactions: i.e. you may buy at most k times and sell at most k times.\n",
    "\n",
    "Note: You may not engage in multiple transactions simultaneously (i.e., you must sell the stock before you buy again).\n",
    "\n",
    " \n",
    "\n",
    "Example 1:\n",
    "\n",
    "Input: k = 2, prices = [2,4,1]\n",
    "Output: 2\n",
    "Explanation: Buy on day 1 (price = 2) and sell on day 2 (price = 4), profit = 4-2 = 2.\n",
    "Example 2:\n",
    "\n",
    "Input: k = 2, prices = [3,2,6,5,0,3]\n",
    "Output: 7\n",
    "Explanation: Buy on day 2 (price = 2) and sell on day 3 (price = 6), profit = 6-2 = 4. Then buy on day 5 (price = 0) and sell on day 6 (price = 3), profit = 3-0 = 3.\n",
    " \n",
    "\n",
    "Constraints:\n",
    "\n",
    "1 <= k <= 100\n",
    "1 <= prices.length <= 1000\n",
    "0 <= prices[i] <= 1000"
   ]
  },
  {
   "cell_type": "code",
   "execution_count": 8,
   "metadata": {},
   "outputs": [
    {
     "data": {
      "text/plain": [
       "7"
      ]
     },
     "execution_count": 8,
     "metadata": {},
     "output_type": "execute_result"
    }
   ],
   "source": [
    "from typing import List\n",
    "class Solution:\n",
    "    def maxProfit(self, k: int, prices: List[int]) -> int:\n",
    "        if len(prices) <= 1:\n",
    "            return 0\n",
    "        \n",
    "        # Initialize the parameters\n",
    "        profit_after_buy = [float('-inf')]*k\n",
    "        profit_after_sell = [0]*k\n",
    "        \n",
    "        for price in prices:\n",
    "            for i in range(k):\n",
    "                if i == 0:\n",
    "                    profit_after_buy[i] = max(profit_after_buy[i], -price)\n",
    "                else:\n",
    "                    profit_after_buy[i] = max(profit_after_buy[i], profit_after_sell[i-1] - price) \n",
    "\n",
    "                profit_after_sell[i] = max(profit_after_sell[i], profit_after_buy[i] + price) \n",
    "\n",
    "        return profit_after_sell[k-1]\n",
    "\n",
    "s = Solution()\n",
    "s.maxProfit(k=2, prices=[3,2,6,5,0,3])\n",
    "                \n",
    "\n",
    "\n",
    "                \n",
    "\n"
   ]
  },
  {
   "cell_type": "code",
   "execution_count": null,
   "metadata": {},
   "outputs": [],
   "source": []
  }
 ],
 "metadata": {
  "kernelspec": {
   "display_name": "Python 3",
   "language": "python",
   "name": "python3"
  },
  "language_info": {
   "codemirror_mode": {
    "name": "ipython",
    "version": 3
   },
   "file_extension": ".py",
   "mimetype": "text/x-python",
   "name": "python",
   "nbconvert_exporter": "python",
   "pygments_lexer": "ipython3",
   "version": "3.11.8"
  }
 },
 "nbformat": 4,
 "nbformat_minor": 2
}
