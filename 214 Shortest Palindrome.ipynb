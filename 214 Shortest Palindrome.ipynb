{
 "cells": [
  {
   "cell_type": "markdown",
   "metadata": {},
   "source": [
    "You are given a string s. You can convert s to a palindrome by adding characters in front of it.\n",
    "\n",
    "Return the shortest palindrome you can find by performing this transformation.\n",
    "\n",
    " \n",
    "\n",
    "Example 1:\n",
    "\n",
    "Input: s = \"aacecaaa\"\n",
    "Output: \"aaacecaaa\"\n",
    "Example 2:\n",
    "\n",
    "Input: s = \"abcd\"\n",
    "Output: \"dcbabcd\"\n",
    " \n",
    "\n",
    "Constraints:\n",
    "\n",
    "0 <= s.length <= 5 * 104\n",
    "s consists of lowercase English letters only."
   ]
  },
  {
   "cell_type": "code",
   "execution_count": 30,
   "metadata": {},
   "outputs": [
    {
     "name": "stdout",
     "output_type": "stream",
     "text": [
      "[0, 0, 0, 0, 0, 0, 0, 0, 0] 1 0\n",
      "[0, 0, 0, 0, 0, 0, 0, 0, 0] \n",
      "\n",
      "[0, 0, 0, 0, 0, 0, 0, 0, 0] 2 1\n",
      "[0, 0, 1, 0, 0, 0, 0, 0, 0] \n",
      "\n",
      "[0, 0, 1, 0, 0, 0, 0, 0, 0] 3 0\n",
      "[0, 0, 1, 0, 0, 0, 0, 0, 0] \n",
      "\n",
      "[0, 0, 1, 0, 0, 0, 0, 0, 0] 4 0\n",
      "[0, 0, 1, 0, 0, 0, 0, 0, 0] \n",
      "\n",
      "[0, 0, 1, 0, 0, 0, 0, 0, 0] 5 0\n",
      "[0, 0, 1, 0, 0, 0, 0, 0, 0] \n",
      "\n",
      "[0, 0, 1, 0, 0, 0, 0, 0, 0] 6 1\n",
      "[0, 0, 1, 0, 0, 0, 1, 0, 0] \n",
      "\n",
      "[0, 0, 1, 0, 0, 0, 1, 0, 0] 7 2\n",
      "[0, 0, 1, 0, 0, 0, 1, 2, 0] \n",
      "\n",
      "[0, 0, 1, 0, 0, 0, 1, 2, 0] 8 3\n",
      "[0, 0, 1, 0, 0, 0, 1, 2, 3] \n",
      "\n"
     ]
    },
    {
     "data": {
      "text/plain": [
       "'31213'"
      ]
     },
     "execution_count": 30,
     "metadata": {},
     "output_type": "execute_result"
    }
   ],
   "source": [
    "class Solution:\n",
    "    def shortestPalindrome(self, s):\n",
    "        # Concatenate the original string with its reverse, separated by a special character\n",
    "        combined = s + \"#\" + s[::-1]\n",
    "\n",
    "        # Build the KMP table\n",
    "        # Look for the longest string that is the duplicate of the string from the beginning\n",
    "        kmp_table = [0] * len(combined)\n",
    "        j = 0\n",
    "        for i in range(1, len(combined)):\n",
    "            while j > 0 and combined[i] != combined[j]:\n",
    "                j = kmp_table[j - 1]\n",
    "            if combined[i] == combined[j]:\n",
    "                j += 1\n",
    "     \n",
    "            kmp_table[i] = j\n",
    "\n",
    "\n",
    "        # The length of the longest prefix that is also a suffix\n",
    "        palindrome_length = kmp_table[-1]\n",
    "\n",
    "        # Add the remaining characters to the front of the original string to make it a palindrome\n",
    "        return s[palindrome_length:][::-1] + s\n",
    "\n",
    "\n",
    "    # Compare hash value\n",
    "    def shortestPalindrome1(self, s: str) -> str:\n",
    "        left, right = 0, 0\n",
    "        base = 131\n",
    "        mod = 100000007\n",
    "        weighted = 1\n",
    "        best = -1\n",
    "\n",
    "        for i in range(len(s)):\n",
    "            print(left, \"*\", base, \"+\", ord(s[i]),\"=\",(left * base + ord(s[i])) % mod)\n",
    "            left = (left * base + ord(s[i])) % mod\n",
    "            print(right, \"+\",weighted, \"*\",ord(s[i]),\"=\",(right + weighted * ord(s[i])) % mod)\n",
    "            right = (right + weighted * ord(s[i])) % mod\n",
    "            if left == right:\n",
    "                best = i\n",
    "\n",
    "            weighted = (weighted * base) % mod\n",
    "\n",
    "        # To get the characters to add to the beginning of the string\n",
    "        # Reverse the remaining part of the string and append it to the original string\n",
    "        return s[best + 1:][::-1] + s\n",
    "\n",
    "s = Solution()\n",
    "s.shortestPalindrome(\"1213\")"
   ]
  },
  {
   "cell_type": "code",
   "execution_count": 9,
   "metadata": {},
   "outputs": [
    {
     "data": {
      "text/plain": [
       "49"
      ]
     },
     "execution_count": 9,
     "metadata": {},
     "output_type": "execute_result"
    }
   ],
   "source": []
  },
  {
   "cell_type": "code",
   "execution_count": null,
   "metadata": {},
   "outputs": [],
   "source": []
  }
 ],
 "metadata": {
  "kernelspec": {
   "display_name": "Python 3",
   "language": "python",
   "name": "python3"
  },
  "language_info": {
   "codemirror_mode": {
    "name": "ipython",
    "version": 3
   },
   "file_extension": ".py",
   "mimetype": "text/x-python",
   "name": "python",
   "nbconvert_exporter": "python",
   "pygments_lexer": "ipython3",
   "version": "3.11.7"
  }
 },
 "nbformat": 4,
 "nbformat_minor": 2
}
