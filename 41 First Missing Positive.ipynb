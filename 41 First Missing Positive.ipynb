{
 "cells": [
  {
   "cell_type": "markdown",
   "metadata": {},
   "source": [
    "Given an unsorted integer array nums. Return the smallest positive integer that is not present in nums.\n",
    "\n",
    "You must implement an algorithm that runs in O(n) time and uses O(1) auxiliary space.\n",
    "\n",
    "Example 1:\n",
    "Input: nums = [1,2,0]\n",
    "Output: 3\n",
    "Explanation: The numbers in the range [1,2] are all in the array.\n",
    "Example 2:\n",
    "Input: nums = [3,4,-1,1]\n",
    "Output: 2\n",
    "Explanation: 1 is in the array but 2 is missing.\n",
    "Example 3:\n",
    "Input: nums = [7,8,9,11,12]\n",
    "Output: 1\n",
    "Explanation: The smallest positive integer 1 is missing"
   ]
  },
  {
   "cell_type": "code",
   "execution_count": 2,
   "metadata": {},
   "outputs": [
    {
     "data": {
      "text/plain": [
       "2"
      ]
     },
     "execution_count": 2,
     "metadata": {},
     "output_type": "execute_result"
    }
   ],
   "source": [
    "from typing import List\n",
    "class Solution:\n",
    "    def firstMissingPositive(self, nums: List[int]) -> int:\n",
    "        n = len(nums)\n",
    "\n",
    "        for i in range(n):\n",
    "            while 1 <= nums[i] <= n and nums[nums[i] - 1] != nums[i]:\n",
    "                # Swap the current number to its correct position\n",
    "                nums[nums[i] - 1], nums[i] = nums[i], nums[nums[i] - 1]\n",
    "\n",
    "        # Find the first position where the value does not match its index + 1\n",
    "        for i in range(n):\n",
    "            if nums[i] != i + 1:\n",
    "                return i + 1\n",
    "\n",
    "        # If all numbers are in their correct positions, the result is n + 1\n",
    "        return n + 1\n",
    "\n",
    "s = Solution()\n",
    "s.firstMissingPositive([3,4,-1,1])"
   ]
  },
  {
   "cell_type": "code",
   "execution_count": null,
   "metadata": {},
   "outputs": [],
   "source": []
  }
 ],
 "metadata": {
  "kernelspec": {
   "display_name": "Python 3",
   "language": "python",
   "name": "python3"
  },
  "language_info": {
   "codemirror_mode": {
    "name": "ipython",
    "version": 3
   },
   "file_extension": ".py",
   "mimetype": "text/x-python",
   "name": "python",
   "nbconvert_exporter": "python",
   "pygments_lexer": "ipython3",
   "version": "3.11.8"
  }
 },
 "nbformat": 4,
 "nbformat_minor": 2
}
