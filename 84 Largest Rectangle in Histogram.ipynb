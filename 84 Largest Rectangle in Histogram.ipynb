{
 "cells": [
  {
   "cell_type": "code",
   "execution_count": 16,
   "metadata": {},
   "outputs": [
    {
     "data": {
      "text/plain": [
       "10"
      ]
     },
     "execution_count": 16,
     "metadata": {},
     "output_type": "execute_result"
    }
   ],
   "source": [
    "#Given an array of integers heights representing the histogram's bar height where the width of each bar is 1, \n",
    "#return the area of the largest rectangle in the histogram.\n",
    "\n",
    "#second best solution\n",
    "class Solution(object):\n",
    "    def largestRectangleArea(self, heights):\n",
    "        \"\"\"\n",
    "        :type heights: List[int]\n",
    "        :rtype: int\n",
    "        \"\"\"\n",
    "        length = len(heights)\n",
    "        stack= [] # to save the index of the nearest bar on the left side whose height = a certain value\n",
    "        l = [] # for each heights[il, look for and  save (1 + the index of the nearest bar on the left side whose height < heights[i])\n",
    "        for i,h in enumerate(heights):\n",
    "            while(stack and heights[stack[-1]]>=h):\n",
    "                stack.pop()\n",
    "            if(stack):\n",
    "                l.append(stack[-1]+1)\n",
    "            else:\n",
    "                l.append(0)\n",
    "            stack.append(i)\n",
    "        \n",
    "        # iterate from right side\n",
    "        stack = []\n",
    "        for i,h in reversed(list(enumerate(heights))):\n",
    "            while(stack and heights[stack[-1]]>=h):\n",
    "                stack.pop()\n",
    "            if(stack):\n",
    "                l[i] = ((stack[-1] - 1) - l[i] + 1 )*h\n",
    "            else:\n",
    "                l[i] = ((length - 1) - l[i] + 1)*h\n",
    "            stack.append(i)\n",
    "\n",
    "        return max(l)\n",
    "    \n",
    "s = Solution()\n",
    "s.largestRectangleArea([2,1,5,6,2,3])\n",
    "\n",
    "\n",
    "# Best Solution\n",
    "class Solution1(object):\n",
    "    def largestRectangleArea(self, heights):\n",
    "        \"\"\"\n",
    "        :type heights: List[int]\n",
    "        :rtype: int\n",
    "        \"\"\"\n",
    "        stack = []\n",
    "        max_area = 0\n",
    "        for i, h in enumerate(heights):\n",
    "            while stack and h < heights[stack[-1]]:\n",
    "                # pop out all the heights larger than the current height to find the furthest bar\n",
    "                # calculate the area at each index when they're poped out\n",
    "                height = heights[stack.pop()] \n",
    "                # the stack will be a monotonic increasing stack so the width will be (i - 1) - (stack[-1] + 1) + 1\n",
    "                width = i if not stack else i - stack[-1] - 1\n",
    "                max_area = max(max_area, height * width)\n",
    "\n",
    "            stack.append(i)\n",
    "\n",
    "        # For the indices which are not poped out, the furthest bar on the right side will be heights[-1]\n",
    "        # and the furthest bar on the left side will be (stack[-1] + 1) after they're poped out\n",
    "        while stack:\n",
    "            height = heights[stack.pop()]\n",
    "            width = len(heights) if not stack else len(heights) - stack[-1] - 1\n",
    "            max_area = max(max_area, height * width)\n",
    "\n",
    "        return max_area\n",
    "\n",
    "\n"
   ]
  },
  {
   "cell_type": "code",
   "execution_count": 17,
   "metadata": {},
   "outputs": [
    {
     "data": {
      "text/plain": [
       "10"
      ]
     },
     "execution_count": 17,
     "metadata": {},
     "output_type": "execute_result"
    }
   ],
   "source": [
    "s = Solution()\n",
    "s.largestRectangleArea([4,2,0,3,2,4,3,4])"
   ]
  },
  {
   "cell_type": "code",
   "execution_count": 18,
   "metadata": {},
   "outputs": [
    {
     "data": {
      "text/plain": [
       "<BarContainer object of 8 artists>"
      ]
     },
     "execution_count": 18,
     "metadata": {},
     "output_type": "execute_result"
    },
    {
     "data": {
      "image/png": "[encoded data removed]",
      "text/plain": [
       "<Figure size 640x480 with 1 Axes>"
      ]
     },
     "metadata": {},
     "output_type": "display_data"
    }
   ],
   "source": [
    "import matplotlib.pyplot as plt\n",
    "plt.bar([0,1,2,3,4,5,6,7],[4,2,0,3,2,4,3,4],width=1)"
   ]
  },
  {
   "cell_type": "code",
   "execution_count": null,
   "metadata": {},
   "outputs": [],
   "source": []
  }
 ],
 "metadata": {
  "kernelspec": {
   "display_name": "Python 3",
   "language": "python",
   "name": "python3"
  },
  "language_info": {
   "codemirror_mode": {
    "name": "ipython",
    "version": 3
   },
   "file_extension": ".py",
   "mimetype": "text/x-python",
   "name": "python",
   "nbconvert_exporter": "python",
   "pygments_lexer": "ipython3",
   "version": "3.11.7"
  }
 },
 "nbformat": 4,
 "nbformat_minor": 2
}
