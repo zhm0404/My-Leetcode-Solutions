{
 "cells": [
  {
   "cell_type": "code",
   "execution_count": 6,
   "metadata": {},
   "outputs": [
    {
     "data": {
      "text/plain": [
       "6"
      ]
     },
     "execution_count": 6,
     "metadata": {},
     "output_type": "execute_result"
    }
   ],
   "source": [
    "#Given n non-negative integers representing an elevation map where the width of each bar is 1, \n",
    "#compute how much water it can trap after raining.\n",
    "class Solution(object):\n",
    "    def trap(self, height):\n",
    "        \"\"\"\n",
    "        :type height: List[int]\n",
    "        :rtype: int\n",
    "        \"\"\"\n",
    "        left = []\n",
    "        max_on_the_left = 0\n",
    "        length = len(height)\n",
    "        # get the highest bar to the left of each index\n",
    "        for i in range(length):\n",
    "            left.append(max_on_the_left)\n",
    "            if max_on_the_left < height[i]:\n",
    "                max_on_the_left = height[i]\n",
    "        right = []\n",
    "        max_on_the_right = 0\n",
    "        water = 0\n",
    "        #get the highest bar to the right of each index\n",
    "        for i in range(len(height)-1,-1,-1):\n",
    "            right.append(max_on_the_right)\n",
    "            bar = min(right[length - 1 - i],left[i])\n",
    "            # calculate the water at each index and add it to the total\n",
    "            if bar > height[i]:\n",
    "                water += bar - height[i]\n",
    "            if max_on_the_right < height[i]:\n",
    "                max_on_the_right = height[i]\n",
    "        return water\n",
    "    \n",
    "s = Solution()\n",
    "s.trap([0,1,0,2,1,0,1,3,2,1,2,1])\n",
    "\n"
   ]
  }
 ],
 "metadata": {
  "kernelspec": {
   "display_name": "Python 3",
   "language": "python",
   "name": "python3"
  },
  "language_info": {
   "codemirror_mode": {
    "name": "ipython",
    "version": 3
   },
   "file_extension": ".py",
   "mimetype": "text/x-python",
   "name": "python",
   "nbconvert_exporter": "python",
   "pygments_lexer": "ipython3",
   "version": "3.11.7"
  }
 },
 "nbformat": 4,
 "nbformat_minor": 2
}
