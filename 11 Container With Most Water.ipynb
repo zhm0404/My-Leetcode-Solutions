{
 "cells": [
  {
   "cell_type": "markdown",
   "metadata": {},
   "source": [
    "You are given an integer array height of length n. There are n vertical lines drawn such that the two endpoints of the ith line are (i, 0) and (i, height[i]).\n",
    "\n",
    "Find two lines that together with the x-axis form a container, such that the container contains the most water.\n",
    "\n",
    "Return the maximum amount of water a container can store.\n",
    "\n",
    "Notice that you may not slant the container.\n",
    "\n",
    "\n",
    "Example 1:\n",
    "\n",
    "\n",
    "Input: height = [1,8,6,2,5,4,8,3,7]\n",
    "Output: 49\n",
    "Explanation: The above vertical lines are represented by array [1,8,6,2,5,4,8,3,7]. In this case, the max area of water (blue section) the container can contain is 49.\n",
    "\n",
    "Example 2:\n",
    "\n",
    "Input: height = [1,1]\n",
    "Output: 1"
   ]
  },
  {
   "cell_type": "code",
   "execution_count": 25,
   "metadata": {},
   "outputs": [],
   "source": [
    "# Optimal\n",
    "from typing import List\n",
    "class Solution:\n",
    "    def maxArea(self, height: List[int]) -> int:\n",
    "        stack = [] # restore indices\n",
    "        leftEnd = 0\n",
    "        # maintain a stack monotonic increasing on the left segment until the peak and monotonic descreasing on the right segment \n",
    "        for i, h in enumerate(height):\n",
    "            if h > height[leftEnd]:\n",
    "                while stack[-1] > leftEnd:\n",
    "                    stack.pop()\n",
    "                leftEnd = i\n",
    "\n",
    "            else:\n",
    "                while stack and height[stack[-1]] <= h and stack[-1]>leftEnd:\n",
    "                    stack.pop()\n",
    "\n",
    "            stack.append(i)\n",
    "            \n",
    "        \n",
    "\n",
    "        # two point slide window to find the maximum area\n",
    "        start = 0\n",
    "        end = len(stack) - 1\n",
    "        maxArea = 0\n",
    "        while start < end:\n",
    "            startIndex = stack[start]\n",
    "            endIndex = stack[end]\n",
    "            minHeight = min(height[startIndex], height[endIndex])\n",
    "            maxArea = max(maxArea, (endIndex - startIndex) * minHeight)\n",
    "            if height[startIndex] == minHeight:\n",
    "                start += 1\n",
    "            else:\n",
    "                end -= 1\n",
    "        \n",
    "        return maxArea\n",
    "\n",
    "# Sub optimal \n",
    "class Solution1:\n",
    "    def maxArea(self, height: List[int]) -> int:\n",
    "        # two point slide window to find the maximum area\n",
    "        start = 0\n",
    "        end = len(height) - 1\n",
    "        maxArea = 0\n",
    "        while start < end:\n",
    "            minHeight = min(height[start], height[end])\n",
    "            maxArea = max(maxArea, (end - start) * minHeight)\n",
    "            if height[start] == minHeight:\n",
    "                start += 1\n",
    "            else:\n",
    "                end -= 1\n",
    "        \n",
    "        return maxArea"
   ]
  },
  {
   "cell_type": "code",
   "execution_count": 26,
   "metadata": {},
   "outputs": [
    {
     "data": {
      "text/plain": [
       "49"
      ]
     },
     "execution_count": 26,
     "metadata": {},
     "output_type": "execute_result"
    }
   ],
   "source": [
    "s= Solution()\n",
    "s.maxArea([1,8,6,2,5,4,8,3,7])"
   ]
  }
 ],
 "metadata": {
  "kernelspec": {
   "display_name": "Python 3",
   "language": "python",
   "name": "python3"
  },
  "language_info": {
   "codemirror_mode": {
    "name": "ipython",
    "version": 3
   },
   "file_extension": ".py",
   "mimetype": "text/x-python",
   "name": "python",
   "nbconvert_exporter": "python",
   "pygments_lexer": "ipython3",
   "version": "3.11.7"
  }
 },
 "nbformat": 4,
 "nbformat_minor": 2
}
