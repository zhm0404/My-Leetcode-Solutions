{
 "cells": [
  {
   "cell_type": "markdown",
   "metadata": {},
   "source": [
    "You are given a nested list of integers nestedList. Each element is either an integer or a list whose elements may also be integers or other lists. Implement an iterator to flatten it.\n",
    "\n",
    "Implement the NestedIterator class:\n",
    "\n",
    "NestedIterator(List<NestedInteger> nestedList) Initializes the iterator with the nested list nestedList.\n",
    "int next() Returns the next integer in the nested list.\n",
    "boolean hasNext() Returns true if there are still some integers in the nested list and false otherwise.\n",
    "Your code will be tested with the following pseudocode:\n",
    "\n",
    "initialize iterator with nestedList\n",
    "res = []\n",
    "while iterator.hasNext()\n",
    "    append iterator.next() to the end of res\n",
    "return res\n",
    "If res matches the expected flattened list, then your code will be judged as correct."
   ]
  },
  {
   "cell_type": "code",
   "execution_count": 1,
   "metadata": {},
   "outputs": [
    {
     "ename": "SyntaxError",
     "evalue": "incomplete input (2976006805.py, line 4)",
     "output_type": "error",
     "traceback": [
      "\u001b[1;36m  Cell \u001b[1;32mIn[1], line 4\u001b[1;36m\u001b[0m\n\u001b[1;33m    \u001b[0m\n\u001b[1;37m    ^\u001b[0m\n\u001b[1;31mSyntaxError\u001b[0m\u001b[1;31m:\u001b[0m incomplete input\n"
     ]
    }
   ],
   "source": [
    "class NestedIterator(object):\n",
    "\n",
    "    def __init__(self, nestedList):\n",
    "        \"\"\"\n",
    "        Initialize your data structure here.\n",
    "        :type nestedList: List[NestedInteger]\n",
    "        \"\"\"\n",
    "        # The NestedList to be flattened\n",
    "        self.nestedList =  nestedList\n",
    "\n",
    "        # The flattened Nestedlist\n",
    "        self.flattenedList = []\n",
    "\n",
    "        # Index to keep track of the current position in the flattenedList\n",
    "        self.currentIndex = 0\n",
    "\n",
    "        def flatten(nestedList):\n",
    "            for item in nestedList:\n",
    "                if item.isInteger():\n",
    "                    self.flattenedList.append(item.getInteger())\n",
    "                else:\n",
    "                    flatten(item.getList())\n",
    "        \n",
    "        flatten(self.nestedList)\n",
    "\n",
    "        \n",
    "\n",
    "    def next(self):\n",
    "        \"\"\"\n",
    "        :rtype: int\n",
    "        \"\"\"\n",
    "        number = self.flattenedList[self.currentIndex]\n",
    "        self.currentIndex += 1\n",
    "        return number\n",
    "\n",
    "    def hasNext(self):\n",
    "        \"\"\"\n",
    "        :rtype: bool\n",
    "        \"\"\"\n",
    "        return self.currentIndex < len(self.flattenedList)"
   ]
  },
  {
   "cell_type": "code",
   "execution_count": 1,
   "metadata": {},
   "outputs": [
    {
     "name": "stdout",
     "output_type": "stream",
     "text": [
      "Found integer: 1\n",
      "Found integer: 1\n",
      "Found integer: 2\n",
      "Found integer: 1\n",
      "Found integer: 1\n"
     ]
    }
   ],
   "source": [
    "\n",
    "class NestedInteger(object):\n",
    "    def __init__(self, value):\n",
    "        self.value = value\n",
    "\n",
    "    def isInteger(self):\n",
    "        return isinstance(self.value, int)\n",
    "\n",
    "    def getInteger(self):\n",
    "        if self.isInteger():\n",
    "            return self.value\n",
    "        return None\n",
    "\n",
    "    def getList(self):\n",
    "        if not self.isInteger():\n",
    "            return self.value\n",
    "        return None\n",
    "\n",
    "# Example usage\n",
    "nestedList = [[1, 1], 2, [1, 1]]\n",
    "\n",
    "for item in nestedList:\n",
    "    nested_integer = NestedInteger(item)\n",
    "    if nested_integer.isInteger():\n",
    "        print(f\"Found integer: {nested_integer.getInteger()}\")\n",
    "    else:\n",
    "        for sub_item in nested_integer.getList():\n",
    "            sub_nested_integer = NestedInteger(sub_item)\n",
    "            if sub_nested_integer.isInteger():\n",
    "                print(f\"Found integer: {sub_nested_integer.getInteger()}\")"
   ]
  }
 ],
 "metadata": {
  "kernelspec": {
   "display_name": "Python 3",
   "language": "python",
   "name": "python3"
  },
  "language_info": {
   "codemirror_mode": {
    "name": "ipython",
    "version": 3
   },
   "file_extension": ".py",
   "mimetype": "text/x-python",
   "name": "python",
   "nbconvert_exporter": "python",
   "pygments_lexer": "ipython3",
   "version": "3.11.7"
  }
 },
 "nbformat": 4,
 "nbformat_minor": 2
}
