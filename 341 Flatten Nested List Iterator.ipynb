{
 "cells": [
  {
   "cell_type": "markdown",
   "metadata": {},
   "source": [
    "You are given a nested list of integers nestedList. Each element is either an integer or a list whose elements may also be integers or other lists. Implement an iterator to flatten it.\n",
    "\n",
    "Implement the NestedIterator class:\n",
    "\n",
    "NestedIterator(List<NestedInteger> nestedList) Initializes the iterator with the nested list nestedList.\n",
    "int next() Returns the next integer in the nested list.\n",
    "boolean hasNext() Returns true if there are still some integers in the nested list and false otherwise.\n",
    "Your code will be tested with the following pseudocode:\n",
    "\n",
    "initialize iterator with nestedList\n",
    "res = []\n",
    "while iterator.hasNext()\n",
    "    append iterator.next() to the end of res\n",
    "return res\n",
    "If res matches the expected flattened list, then your code will be judged as correct."
   ]
  },
  {
   "cell_type": "code",
   "execution_count": 1,
   "metadata": {},
   "outputs": [
    {
     "ename": "SyntaxError",
     "evalue": "incomplete input (2976006805.py, line 4)",
     "output_type": "error",
     "traceback": [
      "\u001b[1;36m  Cell \u001b[1;32mIn[1], line 4\u001b[1;36m\u001b[0m\n\u001b[1;33m    \u001b[0m\n\u001b[1;37m    ^\u001b[0m\n\u001b[1;31mSyntaxError\u001b[0m\u001b[1;31m:\u001b[0m incomplete input\n"
     ]
    }
   ],
   "source": [
    "class NestedIterator(List<NestedList> nestedList):\n",
    "    def next():\n",
    "        \n",
    "    "
   ]
  },
  {
   "cell_type": "code",
   "execution_count": null,
   "metadata": {},
   "outputs": [],
   "source": [
    "\n"
   ]
  }
 ],
 "metadata": {
  "kernelspec": {
   "display_name": "Python 3",
   "language": "python",
   "name": "python3"
  },
  "language_info": {
   "codemirror_mode": {
    "name": "ipython",
    "version": 3
   },
   "file_extension": ".py",
   "mimetype": "text/x-python",
   "name": "python",
   "nbconvert_exporter": "python",
   "pygments_lexer": "ipython3",
   "version": "3.11.6"
  }
 },
 "nbformat": 4,
 "nbformat_minor": 2
}
